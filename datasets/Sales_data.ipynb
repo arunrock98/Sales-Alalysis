{
 "metadata": {
  "language_info": {
   "codemirror_mode": {
    "name": "ipython",
    "version": 3
   },
   "file_extension": ".py",
   "mimetype": "text/x-python",
   "name": "python",
   "nbconvert_exporter": "python",
   "pygments_lexer": "ipython3",
   "version": "3.8.5-final"
  },
  "orig_nbformat": 2,
  "kernelspec": {
   "name": "python3",
   "display_name": "Python 3",
   "language": "python"
  }
 },
 "nbformat": 4,
 "nbformat_minor": 2,
 "cells": [
  {
   "cell_type": "code",
   "execution_count": 145,
   "metadata": {},
   "outputs": [],
   "source": [
    "import pandas as pd\n",
    "import matplotlib.pyplot as plt\n",
    "import os\n",
    "\n",
    "# how to import mulitiple files or datasets directly\n",
    "# reference: https://stackoverflow.com/questions/3207219/how-do-i-list-all-files-of-a-directory\n",
    "\n",
    "df = pd.read_csv('./Sales_April_2019.csv')\n",
    "#files = [file for file in os.listdir(r'C:\\Users\\ARUNRAJ\\Desktop\\CA\\Sales Analysis\\datasets')]\n",
    "\n",
    "#all_months_data = pd.DataFrame()\n",
    "#for file in files:\n",
    "    #df = pd.read_csv(r'C:\\Users\\ARUNRAJ\\Desktop\\CA\\Sales Analysis\\datasets'+file)\n",
    "    #all_months_data = pd.concat([all_months_data,df]\n",
    "df1 = pd.read_csv('Sales_May_2019.csv')\n",
    "df2 = pd.read_csv('Sales_June_2019.csv')\n",
    "df3 = pd.read_csv('Sales_July_2019.csv')\n",
    "df4 = pd.read_csv('Sales_August_2019.csv')\n",
    "df5 = pd.read_csv('Sales_September_2019.csv')\n",
    "df6 = pd.read_csv('Sales_October_2019.csv')\n",
    "df7 = pd.read_csv('Sales_November_2019.csv')\n",
    "df8 = pd.read_csv('Sales_December_2019.csv')\n",
    "df9 = pd.read_csv('Sales_January_2019.csv')\n",
    "df10 = pd.read_csv('Sales_February_2019.csv')\n",
    "df11 = pd.read_csv('Sales_March_2019.csv')\n",
    "\n"
   ]
  },
  {
   "cell_type": "code",
   "execution_count": 146,
   "metadata": {},
   "outputs": [],
   "source": [
    " all_months_data = pd.concat([df1,df2,df3,df4,df5,df6,df7,df8,df9,df10,df11,df])"
   ]
  },
  {
   "cell_type": "code",
   "execution_count": 147,
   "metadata": {},
   "outputs": [],
   "source": [
    "all_months_data.to_csv('all_data.csv',index=False)"
   ]
  },
  {
   "cell_type": "code",
   "execution_count": 148,
   "metadata": {},
   "outputs": [
    {
     "output_type": "execute_result",
     "data": {
      "text/plain": [
       "       Order ID                   Product Quantity Ordered Price Each  \\\n",
       "0        194095          Wired Headphones                1      11.99   \n",
       "1        194096     AA Batteries (4-pack)                1       3.84   \n",
       "2        194097          27in FHD Monitor                1     149.99   \n",
       "3        194098          Wired Headphones                1      11.99   \n",
       "4        194099    AAA Batteries (4-pack)                2       2.99   \n",
       "...         ...                       ...              ...        ...   \n",
       "186845   194090              Google Phone                1        600   \n",
       "186846   194091     AA Batteries (4-pack)                1       3.84   \n",
       "186847   194092    AAA Batteries (4-pack)                2       2.99   \n",
       "186848   194093     AA Batteries (4-pack)                1       3.84   \n",
       "186849   194094  Lightning Charging Cable                1      14.95   \n",
       "\n",
       "            Order Date                         Purchase Address  \n",
       "0       05/16/19 17:14      669 2nd St, New York City, NY 10001  \n",
       "1       05/19/19 14:43          844 Walnut St, Dallas, TX 75001  \n",
       "2       05/24/19 11:36  164 Madison St, New York City, NY 10001  \n",
       "3       05/02/19 20:40          622 Meadow St, Dallas, TX 75001  \n",
       "4       05/11/19 22:55          17 Church St, Seattle, WA 98101  \n",
       "...                ...                                      ...  \n",
       "186845  04/08/19 17:11    177 Jackson St, Los Angeles, CA 90001  \n",
       "186846  04/15/19 16:02          311 Forest St, Austin, TX 73301  \n",
       "186847  04/28/19 14:36   347 Sunset St, San Francisco, CA 94016  \n",
       "186848  04/14/19 15:09          835 Lake St, Portland, OR 97035  \n",
       "186849  04/18/19 11:08           354 North St, Boston, MA 02215  \n",
       "\n",
       "[186850 rows x 6 columns]"
      ],
      "text/html": "<div>\n<style scoped>\n    .dataframe tbody tr th:only-of-type {\n        vertical-align: middle;\n    }\n\n    .dataframe tbody tr th {\n        vertical-align: top;\n    }\n\n    .dataframe thead th {\n        text-align: right;\n    }\n</style>\n<table border=\"1\" class=\"dataframe\">\n  <thead>\n    <tr style=\"text-align: right;\">\n      <th></th>\n      <th>Order ID</th>\n      <th>Product</th>\n      <th>Quantity Ordered</th>\n      <th>Price Each</th>\n      <th>Order Date</th>\n      <th>Purchase Address</th>\n    </tr>\n  </thead>\n  <tbody>\n    <tr>\n      <th>0</th>\n      <td>194095</td>\n      <td>Wired Headphones</td>\n      <td>1</td>\n      <td>11.99</td>\n      <td>05/16/19 17:14</td>\n      <td>669 2nd St, New York City, NY 10001</td>\n    </tr>\n    <tr>\n      <th>1</th>\n      <td>194096</td>\n      <td>AA Batteries (4-pack)</td>\n      <td>1</td>\n      <td>3.84</td>\n      <td>05/19/19 14:43</td>\n      <td>844 Walnut St, Dallas, TX 75001</td>\n    </tr>\n    <tr>\n      <th>2</th>\n      <td>194097</td>\n      <td>27in FHD Monitor</td>\n      <td>1</td>\n      <td>149.99</td>\n      <td>05/24/19 11:36</td>\n      <td>164 Madison St, New York City, NY 10001</td>\n    </tr>\n    <tr>\n      <th>3</th>\n      <td>194098</td>\n      <td>Wired Headphones</td>\n      <td>1</td>\n      <td>11.99</td>\n      <td>05/02/19 20:40</td>\n      <td>622 Meadow St, Dallas, TX 75001</td>\n    </tr>\n    <tr>\n      <th>4</th>\n      <td>194099</td>\n      <td>AAA Batteries (4-pack)</td>\n      <td>2</td>\n      <td>2.99</td>\n      <td>05/11/19 22:55</td>\n      <td>17 Church St, Seattle, WA 98101</td>\n    </tr>\n    <tr>\n      <th>...</th>\n      <td>...</td>\n      <td>...</td>\n      <td>...</td>\n      <td>...</td>\n      <td>...</td>\n      <td>...</td>\n    </tr>\n    <tr>\n      <th>186845</th>\n      <td>194090</td>\n      <td>Google Phone</td>\n      <td>1</td>\n      <td>600</td>\n      <td>04/08/19 17:11</td>\n      <td>177 Jackson St, Los Angeles, CA 90001</td>\n    </tr>\n    <tr>\n      <th>186846</th>\n      <td>194091</td>\n      <td>AA Batteries (4-pack)</td>\n      <td>1</td>\n      <td>3.84</td>\n      <td>04/15/19 16:02</td>\n      <td>311 Forest St, Austin, TX 73301</td>\n    </tr>\n    <tr>\n      <th>186847</th>\n      <td>194092</td>\n      <td>AAA Batteries (4-pack)</td>\n      <td>2</td>\n      <td>2.99</td>\n      <td>04/28/19 14:36</td>\n      <td>347 Sunset St, San Francisco, CA 94016</td>\n    </tr>\n    <tr>\n      <th>186848</th>\n      <td>194093</td>\n      <td>AA Batteries (4-pack)</td>\n      <td>1</td>\n      <td>3.84</td>\n      <td>04/14/19 15:09</td>\n      <td>835 Lake St, Portland, OR 97035</td>\n    </tr>\n    <tr>\n      <th>186849</th>\n      <td>194094</td>\n      <td>Lightning Charging Cable</td>\n      <td>1</td>\n      <td>14.95</td>\n      <td>04/18/19 11:08</td>\n      <td>354 North St, Boston, MA 02215</td>\n    </tr>\n  </tbody>\n</table>\n<p>186850 rows × 6 columns</p>\n</div>"
     },
     "metadata": {},
     "execution_count": 148
    }
   ],
   "source": [
    "all_data = pd.read_csv('all_data.csv')\n",
    "all_data"
   ]
  },
  {
   "cell_type": "code",
   "execution_count": 149,
   "metadata": {},
   "outputs": [
    {
     "output_type": "execute_result",
     "data": {
      "text/plain": [
       "       Order ID                   Product Quantity Ordered Price Each  \\\n",
       "0        194095          Wired Headphones                1      11.99   \n",
       "1        194096     AA Batteries (4-pack)                1       3.84   \n",
       "2        194097          27in FHD Monitor                1     149.99   \n",
       "3        194098          Wired Headphones                1      11.99   \n",
       "4        194099    AAA Batteries (4-pack)                2       2.99   \n",
       "...         ...                       ...              ...        ...   \n",
       "186845   194090              Google Phone                1        600   \n",
       "186846   194091     AA Batteries (4-pack)                1       3.84   \n",
       "186847   194092    AAA Batteries (4-pack)                2       2.99   \n",
       "186848   194093     AA Batteries (4-pack)                1       3.84   \n",
       "186849   194094  Lightning Charging Cable                1      14.95   \n",
       "\n",
       "            Order Date                         Purchase Address Month  \n",
       "0       05/16/19 17:14      669 2nd St, New York City, NY 10001    05  \n",
       "1       05/19/19 14:43          844 Walnut St, Dallas, TX 75001    05  \n",
       "2       05/24/19 11:36  164 Madison St, New York City, NY 10001    05  \n",
       "3       05/02/19 20:40          622 Meadow St, Dallas, TX 75001    05  \n",
       "4       05/11/19 22:55          17 Church St, Seattle, WA 98101    05  \n",
       "...                ...                                      ...   ...  \n",
       "186845  04/08/19 17:11    177 Jackson St, Los Angeles, CA 90001    04  \n",
       "186846  04/15/19 16:02          311 Forest St, Austin, TX 73301    04  \n",
       "186847  04/28/19 14:36   347 Sunset St, San Francisco, CA 94016    04  \n",
       "186848  04/14/19 15:09          835 Lake St, Portland, OR 97035    04  \n",
       "186849  04/18/19 11:08           354 North St, Boston, MA 02215    04  \n",
       "\n",
       "[186850 rows x 7 columns]"
      ],
      "text/html": "<div>\n<style scoped>\n    .dataframe tbody tr th:only-of-type {\n        vertical-align: middle;\n    }\n\n    .dataframe tbody tr th {\n        vertical-align: top;\n    }\n\n    .dataframe thead th {\n        text-align: right;\n    }\n</style>\n<table border=\"1\" class=\"dataframe\">\n  <thead>\n    <tr style=\"text-align: right;\">\n      <th></th>\n      <th>Order ID</th>\n      <th>Product</th>\n      <th>Quantity Ordered</th>\n      <th>Price Each</th>\n      <th>Order Date</th>\n      <th>Purchase Address</th>\n      <th>Month</th>\n    </tr>\n  </thead>\n  <tbody>\n    <tr>\n      <th>0</th>\n      <td>194095</td>\n      <td>Wired Headphones</td>\n      <td>1</td>\n      <td>11.99</td>\n      <td>05/16/19 17:14</td>\n      <td>669 2nd St, New York City, NY 10001</td>\n      <td>05</td>\n    </tr>\n    <tr>\n      <th>1</th>\n      <td>194096</td>\n      <td>AA Batteries (4-pack)</td>\n      <td>1</td>\n      <td>3.84</td>\n      <td>05/19/19 14:43</td>\n      <td>844 Walnut St, Dallas, TX 75001</td>\n      <td>05</td>\n    </tr>\n    <tr>\n      <th>2</th>\n      <td>194097</td>\n      <td>27in FHD Monitor</td>\n      <td>1</td>\n      <td>149.99</td>\n      <td>05/24/19 11:36</td>\n      <td>164 Madison St, New York City, NY 10001</td>\n      <td>05</td>\n    </tr>\n    <tr>\n      <th>3</th>\n      <td>194098</td>\n      <td>Wired Headphones</td>\n      <td>1</td>\n      <td>11.99</td>\n      <td>05/02/19 20:40</td>\n      <td>622 Meadow St, Dallas, TX 75001</td>\n      <td>05</td>\n    </tr>\n    <tr>\n      <th>4</th>\n      <td>194099</td>\n      <td>AAA Batteries (4-pack)</td>\n      <td>2</td>\n      <td>2.99</td>\n      <td>05/11/19 22:55</td>\n      <td>17 Church St, Seattle, WA 98101</td>\n      <td>05</td>\n    </tr>\n    <tr>\n      <th>...</th>\n      <td>...</td>\n      <td>...</td>\n      <td>...</td>\n      <td>...</td>\n      <td>...</td>\n      <td>...</td>\n      <td>...</td>\n    </tr>\n    <tr>\n      <th>186845</th>\n      <td>194090</td>\n      <td>Google Phone</td>\n      <td>1</td>\n      <td>600</td>\n      <td>04/08/19 17:11</td>\n      <td>177 Jackson St, Los Angeles, CA 90001</td>\n      <td>04</td>\n    </tr>\n    <tr>\n      <th>186846</th>\n      <td>194091</td>\n      <td>AA Batteries (4-pack)</td>\n      <td>1</td>\n      <td>3.84</td>\n      <td>04/15/19 16:02</td>\n      <td>311 Forest St, Austin, TX 73301</td>\n      <td>04</td>\n    </tr>\n    <tr>\n      <th>186847</th>\n      <td>194092</td>\n      <td>AAA Batteries (4-pack)</td>\n      <td>2</td>\n      <td>2.99</td>\n      <td>04/28/19 14:36</td>\n      <td>347 Sunset St, San Francisco, CA 94016</td>\n      <td>04</td>\n    </tr>\n    <tr>\n      <th>186848</th>\n      <td>194093</td>\n      <td>AA Batteries (4-pack)</td>\n      <td>1</td>\n      <td>3.84</td>\n      <td>04/14/19 15:09</td>\n      <td>835 Lake St, Portland, OR 97035</td>\n      <td>04</td>\n    </tr>\n    <tr>\n      <th>186849</th>\n      <td>194094</td>\n      <td>Lightning Charging Cable</td>\n      <td>1</td>\n      <td>14.95</td>\n      <td>04/18/19 11:08</td>\n      <td>354 North St, Boston, MA 02215</td>\n      <td>04</td>\n    </tr>\n  </tbody>\n</table>\n<p>186850 rows × 7 columns</p>\n</div>"
     },
     "metadata": {},
     "execution_count": 149
    }
   ],
   "source": [
    "# add coloumn called month\n",
    "all_data['Month'] = all_data['Order Date'].str[0:2]\n",
    "#all_data['Month'] = all_data.astype('int=64')\n",
    "all_data"
   ]
  },
  {
   "cell_type": "code",
   "execution_count": 150,
   "metadata": {},
   "outputs": [
    {
     "output_type": "execute_result",
     "data": {
      "text/plain": [
       "        Order ID               Product Quantity Ordered Price Each  \\\n",
       "count     186305                186305           186305     186305   \n",
       "unique    178438                    20               10         24   \n",
       "top     Order ID  USB-C Charging Cable                1      11.95   \n",
       "freq         355                 21903           168552      21903   \n",
       "\n",
       "        Order Date  Purchase Address   Month  \n",
       "count       186305            186305  186305  \n",
       "unique      142396            140788      13  \n",
       "top     Order Date  Purchase Address      12  \n",
       "freq           355               355   24984  "
      ],
      "text/html": "<div>\n<style scoped>\n    .dataframe tbody tr th:only-of-type {\n        vertical-align: middle;\n    }\n\n    .dataframe tbody tr th {\n        vertical-align: top;\n    }\n\n    .dataframe thead th {\n        text-align: right;\n    }\n</style>\n<table border=\"1\" class=\"dataframe\">\n  <thead>\n    <tr style=\"text-align: right;\">\n      <th></th>\n      <th>Order ID</th>\n      <th>Product</th>\n      <th>Quantity Ordered</th>\n      <th>Price Each</th>\n      <th>Order Date</th>\n      <th>Purchase Address</th>\n      <th>Month</th>\n    </tr>\n  </thead>\n  <tbody>\n    <tr>\n      <th>count</th>\n      <td>186305</td>\n      <td>186305</td>\n      <td>186305</td>\n      <td>186305</td>\n      <td>186305</td>\n      <td>186305</td>\n      <td>186305</td>\n    </tr>\n    <tr>\n      <th>unique</th>\n      <td>178438</td>\n      <td>20</td>\n      <td>10</td>\n      <td>24</td>\n      <td>142396</td>\n      <td>140788</td>\n      <td>13</td>\n    </tr>\n    <tr>\n      <th>top</th>\n      <td>Order ID</td>\n      <td>USB-C Charging Cable</td>\n      <td>1</td>\n      <td>11.95</td>\n      <td>Order Date</td>\n      <td>Purchase Address</td>\n      <td>12</td>\n    </tr>\n    <tr>\n      <th>freq</th>\n      <td>355</td>\n      <td>21903</td>\n      <td>168552</td>\n      <td>21903</td>\n      <td>355</td>\n      <td>355</td>\n      <td>24984</td>\n    </tr>\n  </tbody>\n</table>\n</div>"
     },
     "metadata": {},
     "execution_count": 150
    }
   ],
   "source": [
    "## Data Cleaning\n",
    "all_data.describe()"
   ]
  },
  {
   "cell_type": "code",
   "execution_count": 151,
   "metadata": {},
   "outputs": [
    {
     "output_type": "execute_result",
     "data": {
      "text/plain": [
       "       Order ID                   Product Quantity Ordered Price Each  \\\n",
       "0        194095          Wired Headphones                1      11.99   \n",
       "1        194096     AA Batteries (4-pack)                1       3.84   \n",
       "2        194097          27in FHD Monitor                1     149.99   \n",
       "3        194098          Wired Headphones                1      11.99   \n",
       "4        194099    AAA Batteries (4-pack)                2       2.99   \n",
       "...         ...                       ...              ...        ...   \n",
       "186845   194090              Google Phone                1        600   \n",
       "186846   194091     AA Batteries (4-pack)                1       3.84   \n",
       "186847   194092    AAA Batteries (4-pack)                2       2.99   \n",
       "186848   194093     AA Batteries (4-pack)                1       3.84   \n",
       "186849   194094  Lightning Charging Cable                1      14.95   \n",
       "\n",
       "            Order Date                         Purchase Address Month  \n",
       "0       05/16/19 17:14      669 2nd St, New York City, NY 10001    05  \n",
       "1       05/19/19 14:43          844 Walnut St, Dallas, TX 75001    05  \n",
       "2       05/24/19 11:36  164 Madison St, New York City, NY 10001    05  \n",
       "3       05/02/19 20:40          622 Meadow St, Dallas, TX 75001    05  \n",
       "4       05/11/19 22:55          17 Church St, Seattle, WA 98101    05  \n",
       "...                ...                                      ...   ...  \n",
       "186845  04/08/19 17:11    177 Jackson St, Los Angeles, CA 90001    04  \n",
       "186846  04/15/19 16:02          311 Forest St, Austin, TX 73301    04  \n",
       "186847  04/28/19 14:36   347 Sunset St, San Francisco, CA 94016    04  \n",
       "186848  04/14/19 15:09          835 Lake St, Portland, OR 97035    04  \n",
       "186849  04/18/19 11:08           354 North St, Boston, MA 02215    04  \n",
       "\n",
       "[186305 rows x 7 columns]"
      ],
      "text/html": "<div>\n<style scoped>\n    .dataframe tbody tr th:only-of-type {\n        vertical-align: middle;\n    }\n\n    .dataframe tbody tr th {\n        vertical-align: top;\n    }\n\n    .dataframe thead th {\n        text-align: right;\n    }\n</style>\n<table border=\"1\" class=\"dataframe\">\n  <thead>\n    <tr style=\"text-align: right;\">\n      <th></th>\n      <th>Order ID</th>\n      <th>Product</th>\n      <th>Quantity Ordered</th>\n      <th>Price Each</th>\n      <th>Order Date</th>\n      <th>Purchase Address</th>\n      <th>Month</th>\n    </tr>\n  </thead>\n  <tbody>\n    <tr>\n      <th>0</th>\n      <td>194095</td>\n      <td>Wired Headphones</td>\n      <td>1</td>\n      <td>11.99</td>\n      <td>05/16/19 17:14</td>\n      <td>669 2nd St, New York City, NY 10001</td>\n      <td>05</td>\n    </tr>\n    <tr>\n      <th>1</th>\n      <td>194096</td>\n      <td>AA Batteries (4-pack)</td>\n      <td>1</td>\n      <td>3.84</td>\n      <td>05/19/19 14:43</td>\n      <td>844 Walnut St, Dallas, TX 75001</td>\n      <td>05</td>\n    </tr>\n    <tr>\n      <th>2</th>\n      <td>194097</td>\n      <td>27in FHD Monitor</td>\n      <td>1</td>\n      <td>149.99</td>\n      <td>05/24/19 11:36</td>\n      <td>164 Madison St, New York City, NY 10001</td>\n      <td>05</td>\n    </tr>\n    <tr>\n      <th>3</th>\n      <td>194098</td>\n      <td>Wired Headphones</td>\n      <td>1</td>\n      <td>11.99</td>\n      <td>05/02/19 20:40</td>\n      <td>622 Meadow St, Dallas, TX 75001</td>\n      <td>05</td>\n    </tr>\n    <tr>\n      <th>4</th>\n      <td>194099</td>\n      <td>AAA Batteries (4-pack)</td>\n      <td>2</td>\n      <td>2.99</td>\n      <td>05/11/19 22:55</td>\n      <td>17 Church St, Seattle, WA 98101</td>\n      <td>05</td>\n    </tr>\n    <tr>\n      <th>...</th>\n      <td>...</td>\n      <td>...</td>\n      <td>...</td>\n      <td>...</td>\n      <td>...</td>\n      <td>...</td>\n      <td>...</td>\n    </tr>\n    <tr>\n      <th>186845</th>\n      <td>194090</td>\n      <td>Google Phone</td>\n      <td>1</td>\n      <td>600</td>\n      <td>04/08/19 17:11</td>\n      <td>177 Jackson St, Los Angeles, CA 90001</td>\n      <td>04</td>\n    </tr>\n    <tr>\n      <th>186846</th>\n      <td>194091</td>\n      <td>AA Batteries (4-pack)</td>\n      <td>1</td>\n      <td>3.84</td>\n      <td>04/15/19 16:02</td>\n      <td>311 Forest St, Austin, TX 73301</td>\n      <td>04</td>\n    </tr>\n    <tr>\n      <th>186847</th>\n      <td>194092</td>\n      <td>AAA Batteries (4-pack)</td>\n      <td>2</td>\n      <td>2.99</td>\n      <td>04/28/19 14:36</td>\n      <td>347 Sunset St, San Francisco, CA 94016</td>\n      <td>04</td>\n    </tr>\n    <tr>\n      <th>186848</th>\n      <td>194093</td>\n      <td>AA Batteries (4-pack)</td>\n      <td>1</td>\n      <td>3.84</td>\n      <td>04/14/19 15:09</td>\n      <td>835 Lake St, Portland, OR 97035</td>\n      <td>04</td>\n    </tr>\n    <tr>\n      <th>186849</th>\n      <td>194094</td>\n      <td>Lightning Charging Cable</td>\n      <td>1</td>\n      <td>14.95</td>\n      <td>04/18/19 11:08</td>\n      <td>354 North St, Boston, MA 02215</td>\n      <td>04</td>\n    </tr>\n  </tbody>\n</table>\n<p>186305 rows × 7 columns</p>\n</div>"
     },
     "metadata": {},
     "execution_count": 151
    }
   ],
   "source": [
    "# finding all the NaN values\n",
    "nan_df = all_data[all_data.isna().any(axis=1)]\n",
    "nan_df\n",
    "all_data = all_data.dropna(how='all')\n",
    "all_data"
   ]
  },
  {
   "cell_type": "code",
   "execution_count": 152,
   "metadata": {},
   "outputs": [
    {
     "output_type": "execute_result",
     "data": {
      "text/plain": [
       "       Order ID Product Quantity Ordered Price Each Order Date  \\\n",
       "58          NaN     NaN              NaN        NaN        NaN   \n",
       "111         NaN     NaN              NaN        NaN        NaN   \n",
       "522         NaN     NaN              NaN        NaN        NaN   \n",
       "839         NaN     NaN              NaN        NaN        NaN   \n",
       "1590        NaN     NaN              NaN        NaN        NaN   \n",
       "...         ...     ...              ...        ...        ...   \n",
       "185230      NaN     NaN              NaN        NaN        NaN   \n",
       "185379      NaN     NaN              NaN        NaN        NaN   \n",
       "185527      NaN     NaN              NaN        NaN        NaN   \n",
       "185913      NaN     NaN              NaN        NaN        NaN   \n",
       "186185      NaN     NaN              NaN        NaN        NaN   \n",
       "\n",
       "       Purchase Address Month  \n",
       "58                  NaN   NaN  \n",
       "111                 NaN   NaN  \n",
       "522                 NaN   NaN  \n",
       "839                 NaN   NaN  \n",
       "1590                NaN   NaN  \n",
       "...                 ...   ...  \n",
       "185230              NaN   NaN  \n",
       "185379              NaN   NaN  \n",
       "185527              NaN   NaN  \n",
       "185913              NaN   NaN  \n",
       "186185              NaN   NaN  \n",
       "\n",
       "[545 rows x 7 columns]"
      ],
      "text/html": "<div>\n<style scoped>\n    .dataframe tbody tr th:only-of-type {\n        vertical-align: middle;\n    }\n\n    .dataframe tbody tr th {\n        vertical-align: top;\n    }\n\n    .dataframe thead th {\n        text-align: right;\n    }\n</style>\n<table border=\"1\" class=\"dataframe\">\n  <thead>\n    <tr style=\"text-align: right;\">\n      <th></th>\n      <th>Order ID</th>\n      <th>Product</th>\n      <th>Quantity Ordered</th>\n      <th>Price Each</th>\n      <th>Order Date</th>\n      <th>Purchase Address</th>\n      <th>Month</th>\n    </tr>\n  </thead>\n  <tbody>\n    <tr>\n      <th>58</th>\n      <td>NaN</td>\n      <td>NaN</td>\n      <td>NaN</td>\n      <td>NaN</td>\n      <td>NaN</td>\n      <td>NaN</td>\n      <td>NaN</td>\n    </tr>\n    <tr>\n      <th>111</th>\n      <td>NaN</td>\n      <td>NaN</td>\n      <td>NaN</td>\n      <td>NaN</td>\n      <td>NaN</td>\n      <td>NaN</td>\n      <td>NaN</td>\n    </tr>\n    <tr>\n      <th>522</th>\n      <td>NaN</td>\n      <td>NaN</td>\n      <td>NaN</td>\n      <td>NaN</td>\n      <td>NaN</td>\n      <td>NaN</td>\n      <td>NaN</td>\n    </tr>\n    <tr>\n      <th>839</th>\n      <td>NaN</td>\n      <td>NaN</td>\n      <td>NaN</td>\n      <td>NaN</td>\n      <td>NaN</td>\n      <td>NaN</td>\n      <td>NaN</td>\n    </tr>\n    <tr>\n      <th>1590</th>\n      <td>NaN</td>\n      <td>NaN</td>\n      <td>NaN</td>\n      <td>NaN</td>\n      <td>NaN</td>\n      <td>NaN</td>\n      <td>NaN</td>\n    </tr>\n    <tr>\n      <th>...</th>\n      <td>...</td>\n      <td>...</td>\n      <td>...</td>\n      <td>...</td>\n      <td>...</td>\n      <td>...</td>\n      <td>...</td>\n    </tr>\n    <tr>\n      <th>185230</th>\n      <td>NaN</td>\n      <td>NaN</td>\n      <td>NaN</td>\n      <td>NaN</td>\n      <td>NaN</td>\n      <td>NaN</td>\n      <td>NaN</td>\n    </tr>\n    <tr>\n      <th>185379</th>\n      <td>NaN</td>\n      <td>NaN</td>\n      <td>NaN</td>\n      <td>NaN</td>\n      <td>NaN</td>\n      <td>NaN</td>\n      <td>NaN</td>\n    </tr>\n    <tr>\n      <th>185527</th>\n      <td>NaN</td>\n      <td>NaN</td>\n      <td>NaN</td>\n      <td>NaN</td>\n      <td>NaN</td>\n      <td>NaN</td>\n      <td>NaN</td>\n    </tr>\n    <tr>\n      <th>185913</th>\n      <td>NaN</td>\n      <td>NaN</td>\n      <td>NaN</td>\n      <td>NaN</td>\n      <td>NaN</td>\n      <td>NaN</td>\n      <td>NaN</td>\n    </tr>\n    <tr>\n      <th>186185</th>\n      <td>NaN</td>\n      <td>NaN</td>\n      <td>NaN</td>\n      <td>NaN</td>\n      <td>NaN</td>\n      <td>NaN</td>\n      <td>NaN</td>\n    </tr>\n  </tbody>\n</table>\n<p>545 rows × 7 columns</p>\n</div>"
     },
     "metadata": {},
     "execution_count": 152
    }
   ],
   "source": [
    "# removed all NaN values in the dataset\n",
    "nan_df"
   ]
  },
  {
   "cell_type": "code",
   "execution_count": 153,
   "metadata": {},
   "outputs": [
    {
     "output_type": "stream",
     "name": "stdout",
     "text": [
      "<class 'pandas.core.frame.DataFrame'>\nInt64Index: 186305 entries, 0 to 186849\nData columns (total 7 columns):\n #   Column            Non-Null Count   Dtype \n---  ------            --------------   ----- \n 0   Order ID          186305 non-null  object\n 1   Product           186305 non-null  object\n 2   Quantity Ordered  186305 non-null  object\n 3   Price Each        186305 non-null  object\n 4   Order Date        186305 non-null  object\n 5   Purchase Address  186305 non-null  object\n 6   Month             186305 non-null  object\ndtypes: object(7)\nmemory usage: 11.4+ MB\n"
     ]
    }
   ],
   "source": [
    "all_data.info()"
   ]
  },
  {
   "cell_type": "code",
   "execution_count": 154,
   "metadata": {},
   "outputs": [
    {
     "output_type": "error",
     "ename": "ValueError",
     "evalue": "Unable to parse string \"Quantity Ordered\" at position 960",
     "traceback": [
      "\u001b[1;31m---------------------------------------------------------------------------\u001b[0m",
      "\u001b[1;31mValueError\u001b[0m                                Traceback (most recent call last)",
      "\u001b[1;32mpandas\\_libs\\lib.pyx\u001b[0m in \u001b[0;36mpandas._libs.lib.maybe_convert_numeric\u001b[1;34m()\u001b[0m\n",
      "\u001b[1;31mValueError\u001b[0m: Unable to parse string \"Quantity Ordered\"",
      "\nDuring handling of the above exception, another exception occurred:\n",
      "\u001b[1;31mValueError\u001b[0m                                Traceback (most recent call last)",
      "\u001b[1;32m<ipython-input-154-533a33cd2169>\u001b[0m in \u001b[0;36m<module>\u001b[1;34m\u001b[0m\n\u001b[0;32m      1\u001b[0m \u001b[1;31m# its look like quantity ordered and price each coloumns are not numerical so converting them into numeric values\u001b[0m\u001b[1;33m\u001b[0m\u001b[1;33m\u001b[0m\u001b[1;33m\u001b[0m\u001b[0m\n\u001b[0;32m      2\u001b[0m \u001b[1;31m#all_data['Quantity Ordered'] = all_data['Quantity Ordered'].astype('int32')\u001b[0m\u001b[1;33m\u001b[0m\u001b[1;33m\u001b[0m\u001b[1;33m\u001b[0m\u001b[0m\n\u001b[1;32m----> 3\u001b[1;33m \u001b[0mall_data\u001b[0m\u001b[1;33m[\u001b[0m\u001b[1;34m'Quantity Ordered'\u001b[0m\u001b[1;33m]\u001b[0m \u001b[1;33m=\u001b[0m \u001b[0mpd\u001b[0m\u001b[1;33m.\u001b[0m\u001b[0mto_numeric\u001b[0m\u001b[1;33m(\u001b[0m\u001b[0mall_data\u001b[0m\u001b[1;33m[\u001b[0m\u001b[1;34m'Quantity Ordered'\u001b[0m\u001b[1;33m]\u001b[0m\u001b[1;33m)\u001b[0m\u001b[1;33m\u001b[0m\u001b[1;33m\u001b[0m\u001b[0m\n\u001b[0m\u001b[0;32m      4\u001b[0m \u001b[1;31m#all_data['Price Each'] = all_data['Price Each'].astype('float')\u001b[0m\u001b[1;33m\u001b[0m\u001b[1;33m\u001b[0m\u001b[1;33m\u001b[0m\u001b[0m\n\u001b[0;32m      5\u001b[0m \u001b[0mall_data\u001b[0m\u001b[1;33m[\u001b[0m\u001b[1;34m'Price Each'\u001b[0m\u001b[1;33m]\u001b[0m \u001b[1;33m=\u001b[0m \u001b[0mpd\u001b[0m\u001b[1;33m.\u001b[0m\u001b[0mto_numeric\u001b[0m\u001b[1;33m(\u001b[0m\u001b[0mall_data\u001b[0m\u001b[1;33m[\u001b[0m\u001b[1;34m'Price Each'\u001b[0m\u001b[1;33m]\u001b[0m\u001b[1;33m)\u001b[0m\u001b[1;33m\u001b[0m\u001b[1;33m\u001b[0m\u001b[0m\n",
      "\u001b[1;32m~\\anaconda3\\lib\\site-packages\\pandas\\core\\tools\\numeric.py\u001b[0m in \u001b[0;36mto_numeric\u001b[1;34m(arg, errors, downcast)\u001b[0m\n\u001b[0;32m    150\u001b[0m         \u001b[0mcoerce_numeric\u001b[0m \u001b[1;33m=\u001b[0m \u001b[0merrors\u001b[0m \u001b[1;32mnot\u001b[0m \u001b[1;32min\u001b[0m \u001b[1;33m(\u001b[0m\u001b[1;34m\"ignore\"\u001b[0m\u001b[1;33m,\u001b[0m \u001b[1;34m\"raise\"\u001b[0m\u001b[1;33m)\u001b[0m\u001b[1;33m\u001b[0m\u001b[1;33m\u001b[0m\u001b[0m\n\u001b[0;32m    151\u001b[0m         \u001b[1;32mtry\u001b[0m\u001b[1;33m:\u001b[0m\u001b[1;33m\u001b[0m\u001b[1;33m\u001b[0m\u001b[0m\n\u001b[1;32m--> 152\u001b[1;33m             values = lib.maybe_convert_numeric(\n\u001b[0m\u001b[0;32m    153\u001b[0m                 \u001b[0mvalues\u001b[0m\u001b[1;33m,\u001b[0m \u001b[0mset\u001b[0m\u001b[1;33m(\u001b[0m\u001b[1;33m)\u001b[0m\u001b[1;33m,\u001b[0m \u001b[0mcoerce_numeric\u001b[0m\u001b[1;33m=\u001b[0m\u001b[0mcoerce_numeric\u001b[0m\u001b[1;33m\u001b[0m\u001b[1;33m\u001b[0m\u001b[0m\n\u001b[0;32m    154\u001b[0m             )\n",
      "\u001b[1;32mpandas\\_libs\\lib.pyx\u001b[0m in \u001b[0;36mpandas._libs.lib.maybe_convert_numeric\u001b[1;34m()\u001b[0m\n",
      "\u001b[1;31mValueError\u001b[0m: Unable to parse string \"Quantity Ordered\" at position 960"
     ]
    }
   ],
   "source": [
    "# its look like quantity ordered and price each coloumns are not numerical so converting them into numeric values\n",
    "#all_data['Quantity Ordered'] = all_data['Quantity Ordered'].astype('int32')\n",
    "all_data['Quantity Ordered'] = pd.to_numeric(all_data['Quantity Ordered'])\n",
    "#all_data['Price Each'] = all_data['Price Each'].astype('float')\n",
    "all_data['Price Each'] = pd.to_numeric(all_data['Price Each'])\n",
    "all_data.info()"
   ]
  },
  {
   "cell_type": "code",
   "execution_count": 78,
   "metadata": {},
   "outputs": [
    {
     "output_type": "execute_result",
     "data": {
      "text/plain": [
       "Empty DataFrame\n",
       "Columns: [Order ID, Product, Quantity Ordered, Price Each, Order Date, Purchase Address, Month]\n",
       "Index: []"
      ],
      "text/html": "<div>\n<style scoped>\n    .dataframe tbody tr th:only-of-type {\n        vertical-align: middle;\n    }\n\n    .dataframe tbody tr th {\n        vertical-align: top;\n    }\n\n    .dataframe thead th {\n        text-align: right;\n    }\n</style>\n<table border=\"1\" class=\"dataframe\">\n  <thead>\n    <tr style=\"text-align: right;\">\n      <th></th>\n      <th>Order ID</th>\n      <th>Product</th>\n      <th>Quantity Ordered</th>\n      <th>Price Each</th>\n      <th>Order Date</th>\n      <th>Purchase Address</th>\n      <th>Month</th>\n    </tr>\n  </thead>\n  <tbody>\n  </tbody>\n</table>\n</div>"
     },
     "metadata": {},
     "execution_count": 78
    }
   ],
   "source": [
    "# it seems there are some 'Or' kind of data available in the month data so need to remove the rows\n",
    "temp_df = all_data[all_data['Order Date'].str[0:2] == 'Or']\n",
    "temp_df"
   ]
  },
  {
   "cell_type": "code",
   "execution_count": 79,
   "metadata": {},
   "outputs": [
    {
     "output_type": "execute_result",
     "data": {
      "text/plain": [
       "       Order ID                   Product  Quantity Ordered  Price Each  \\\n",
       "0        194095          Wired Headphones                 1       11.99   \n",
       "1        194096     AA Batteries (4-pack)                 1        3.84   \n",
       "2        194097          27in FHD Monitor                 1      149.99   \n",
       "3        194098          Wired Headphones                 1       11.99   \n",
       "4        194099    AAA Batteries (4-pack)                 2        2.99   \n",
       "...         ...                       ...               ...         ...   \n",
       "186845   194090              Google Phone                 1      600.00   \n",
       "186846   194091     AA Batteries (4-pack)                 1        3.84   \n",
       "186847   194092    AAA Batteries (4-pack)                 2        2.99   \n",
       "186848   194093     AA Batteries (4-pack)                 1        3.84   \n",
       "186849   194094  Lightning Charging Cable                 1       14.95   \n",
       "\n",
       "            Order Date                         Purchase Address  Month  \n",
       "0       05/16/19 17:14      669 2nd St, New York City, NY 10001      5  \n",
       "1       05/19/19 14:43          844 Walnut St, Dallas, TX 75001      5  \n",
       "2       05/24/19 11:36  164 Madison St, New York City, NY 10001      5  \n",
       "3       05/02/19 20:40          622 Meadow St, Dallas, TX 75001      5  \n",
       "4       05/11/19 22:55          17 Church St, Seattle, WA 98101      5  \n",
       "...                ...                                      ...    ...  \n",
       "186845  04/08/19 17:11    177 Jackson St, Los Angeles, CA 90001      4  \n",
       "186846  04/15/19 16:02          311 Forest St, Austin, TX 73301      4  \n",
       "186847  04/28/19 14:36   347 Sunset St, San Francisco, CA 94016      4  \n",
       "186848  04/14/19 15:09          835 Lake St, Portland, OR 97035      4  \n",
       "186849  04/18/19 11:08           354 North St, Boston, MA 02215      4  \n",
       "\n",
       "[185950 rows x 7 columns]"
      ],
      "text/html": "<div>\n<style scoped>\n    .dataframe tbody tr th:only-of-type {\n        vertical-align: middle;\n    }\n\n    .dataframe tbody tr th {\n        vertical-align: top;\n    }\n\n    .dataframe thead th {\n        text-align: right;\n    }\n</style>\n<table border=\"1\" class=\"dataframe\">\n  <thead>\n    <tr style=\"text-align: right;\">\n      <th></th>\n      <th>Order ID</th>\n      <th>Product</th>\n      <th>Quantity Ordered</th>\n      <th>Price Each</th>\n      <th>Order Date</th>\n      <th>Purchase Address</th>\n      <th>Month</th>\n    </tr>\n  </thead>\n  <tbody>\n    <tr>\n      <th>0</th>\n      <td>194095</td>\n      <td>Wired Headphones</td>\n      <td>1</td>\n      <td>11.99</td>\n      <td>05/16/19 17:14</td>\n      <td>669 2nd St, New York City, NY 10001</td>\n      <td>5</td>\n    </tr>\n    <tr>\n      <th>1</th>\n      <td>194096</td>\n      <td>AA Batteries (4-pack)</td>\n      <td>1</td>\n      <td>3.84</td>\n      <td>05/19/19 14:43</td>\n      <td>844 Walnut St, Dallas, TX 75001</td>\n      <td>5</td>\n    </tr>\n    <tr>\n      <th>2</th>\n      <td>194097</td>\n      <td>27in FHD Monitor</td>\n      <td>1</td>\n      <td>149.99</td>\n      <td>05/24/19 11:36</td>\n      <td>164 Madison St, New York City, NY 10001</td>\n      <td>5</td>\n    </tr>\n    <tr>\n      <th>3</th>\n      <td>194098</td>\n      <td>Wired Headphones</td>\n      <td>1</td>\n      <td>11.99</td>\n      <td>05/02/19 20:40</td>\n      <td>622 Meadow St, Dallas, TX 75001</td>\n      <td>5</td>\n    </tr>\n    <tr>\n      <th>4</th>\n      <td>194099</td>\n      <td>AAA Batteries (4-pack)</td>\n      <td>2</td>\n      <td>2.99</td>\n      <td>05/11/19 22:55</td>\n      <td>17 Church St, Seattle, WA 98101</td>\n      <td>5</td>\n    </tr>\n    <tr>\n      <th>...</th>\n      <td>...</td>\n      <td>...</td>\n      <td>...</td>\n      <td>...</td>\n      <td>...</td>\n      <td>...</td>\n      <td>...</td>\n    </tr>\n    <tr>\n      <th>186845</th>\n      <td>194090</td>\n      <td>Google Phone</td>\n      <td>1</td>\n      <td>600.00</td>\n      <td>04/08/19 17:11</td>\n      <td>177 Jackson St, Los Angeles, CA 90001</td>\n      <td>4</td>\n    </tr>\n    <tr>\n      <th>186846</th>\n      <td>194091</td>\n      <td>AA Batteries (4-pack)</td>\n      <td>1</td>\n      <td>3.84</td>\n      <td>04/15/19 16:02</td>\n      <td>311 Forest St, Austin, TX 73301</td>\n      <td>4</td>\n    </tr>\n    <tr>\n      <th>186847</th>\n      <td>194092</td>\n      <td>AAA Batteries (4-pack)</td>\n      <td>2</td>\n      <td>2.99</td>\n      <td>04/28/19 14:36</td>\n      <td>347 Sunset St, San Francisco, CA 94016</td>\n      <td>4</td>\n    </tr>\n    <tr>\n      <th>186848</th>\n      <td>194093</td>\n      <td>AA Batteries (4-pack)</td>\n      <td>1</td>\n      <td>3.84</td>\n      <td>04/14/19 15:09</td>\n      <td>835 Lake St, Portland, OR 97035</td>\n      <td>4</td>\n    </tr>\n    <tr>\n      <th>186849</th>\n      <td>194094</td>\n      <td>Lightning Charging Cable</td>\n      <td>1</td>\n      <td>14.95</td>\n      <td>04/18/19 11:08</td>\n      <td>354 North St, Boston, MA 02215</td>\n      <td>4</td>\n    </tr>\n  </tbody>\n</table>\n<p>185950 rows × 7 columns</p>\n</div>"
     },
     "metadata": {},
     "execution_count": 79
    }
   ],
   "source": [
    "# while concatinating the dataframe all the headers were repeated so need to remove those duplicated rows\n",
    "all_data = all_data[all_data['Order Date'].str[0:2] != 'Or']\n",
    "all_data"
   ]
  },
  {
   "cell_type": "code",
   "execution_count": null,
   "metadata": {},
   "outputs": [],
   "source": []
  },
  {
   "cell_type": "code",
   "execution_count": 80,
   "metadata": {},
   "outputs": [],
   "source": [
    "### Data Exploration###"
   ]
  },
  {
   "cell_type": "code",
   "execution_count": 81,
   "metadata": {},
   "outputs": [],
   "source": [
    "#Question 1: What was the best month for sales? How much was earned that month?\n",
    "#Question 2: What city sold the most product?\n",
    "#Question 3: What time should we display advertisements to maximize likelihood of customer's buying product?\n",
    "#Question 4: What products are most often sold together?\n",
    "#Question 5: What product sold the most? Why do you think it sold the most?\n",
    "# explore more data with data visualisations in order to get more insights\n"
   ]
  },
  {
   "cell_type": "code",
   "execution_count": 82,
   "metadata": {},
   "outputs": [],
   "source": [
    "#Question 1: What was the best month for sales? How much was earned that month?\n",
    "# Its looks like the month coloumn in like a object so converting into numeric\n",
    "all_data['Month'] = all_data['Month'].astype('int32')"
   ]
  },
  {
   "cell_type": "code",
   "execution_count": 83,
   "metadata": {},
   "outputs": [
    {
     "output_type": "execute_result",
     "data": {
      "text/plain": [
       "       Order ID                   Product  Quantity Ordered  Price Each  \\\n",
       "0        194095          Wired Headphones                 1       11.99   \n",
       "1        194096     AA Batteries (4-pack)                 1        3.84   \n",
       "2        194097          27in FHD Monitor                 1      149.99   \n",
       "3        194098          Wired Headphones                 1       11.99   \n",
       "4        194099    AAA Batteries (4-pack)                 2        2.99   \n",
       "...         ...                       ...               ...         ...   \n",
       "186845   194090              Google Phone                 1      600.00   \n",
       "186846   194091     AA Batteries (4-pack)                 1        3.84   \n",
       "186847   194092    AAA Batteries (4-pack)                 2        2.99   \n",
       "186848   194093     AA Batteries (4-pack)                 1        3.84   \n",
       "186849   194094  Lightning Charging Cable                 1       14.95   \n",
       "\n",
       "            Order Date                         Purchase Address  Month   sales  \n",
       "0       05/16/19 17:14      669 2nd St, New York City, NY 10001      5   11.99  \n",
       "1       05/19/19 14:43          844 Walnut St, Dallas, TX 75001      5    3.84  \n",
       "2       05/24/19 11:36  164 Madison St, New York City, NY 10001      5  149.99  \n",
       "3       05/02/19 20:40          622 Meadow St, Dallas, TX 75001      5   11.99  \n",
       "4       05/11/19 22:55          17 Church St, Seattle, WA 98101      5    5.98  \n",
       "...                ...                                      ...    ...     ...  \n",
       "186845  04/08/19 17:11    177 Jackson St, Los Angeles, CA 90001      4  600.00  \n",
       "186846  04/15/19 16:02          311 Forest St, Austin, TX 73301      4    3.84  \n",
       "186847  04/28/19 14:36   347 Sunset St, San Francisco, CA 94016      4    5.98  \n",
       "186848  04/14/19 15:09          835 Lake St, Portland, OR 97035      4    3.84  \n",
       "186849  04/18/19 11:08           354 North St, Boston, MA 02215      4   14.95  \n",
       "\n",
       "[185950 rows x 8 columns]"
      ],
      "text/html": "<div>\n<style scoped>\n    .dataframe tbody tr th:only-of-type {\n        vertical-align: middle;\n    }\n\n    .dataframe tbody tr th {\n        vertical-align: top;\n    }\n\n    .dataframe thead th {\n        text-align: right;\n    }\n</style>\n<table border=\"1\" class=\"dataframe\">\n  <thead>\n    <tr style=\"text-align: right;\">\n      <th></th>\n      <th>Order ID</th>\n      <th>Product</th>\n      <th>Quantity Ordered</th>\n      <th>Price Each</th>\n      <th>Order Date</th>\n      <th>Purchase Address</th>\n      <th>Month</th>\n      <th>sales</th>\n    </tr>\n  </thead>\n  <tbody>\n    <tr>\n      <th>0</th>\n      <td>194095</td>\n      <td>Wired Headphones</td>\n      <td>1</td>\n      <td>11.99</td>\n      <td>05/16/19 17:14</td>\n      <td>669 2nd St, New York City, NY 10001</td>\n      <td>5</td>\n      <td>11.99</td>\n    </tr>\n    <tr>\n      <th>1</th>\n      <td>194096</td>\n      <td>AA Batteries (4-pack)</td>\n      <td>1</td>\n      <td>3.84</td>\n      <td>05/19/19 14:43</td>\n      <td>844 Walnut St, Dallas, TX 75001</td>\n      <td>5</td>\n      <td>3.84</td>\n    </tr>\n    <tr>\n      <th>2</th>\n      <td>194097</td>\n      <td>27in FHD Monitor</td>\n      <td>1</td>\n      <td>149.99</td>\n      <td>05/24/19 11:36</td>\n      <td>164 Madison St, New York City, NY 10001</td>\n      <td>5</td>\n      <td>149.99</td>\n    </tr>\n    <tr>\n      <th>3</th>\n      <td>194098</td>\n      <td>Wired Headphones</td>\n      <td>1</td>\n      <td>11.99</td>\n      <td>05/02/19 20:40</td>\n      <td>622 Meadow St, Dallas, TX 75001</td>\n      <td>5</td>\n      <td>11.99</td>\n    </tr>\n    <tr>\n      <th>4</th>\n      <td>194099</td>\n      <td>AAA Batteries (4-pack)</td>\n      <td>2</td>\n      <td>2.99</td>\n      <td>05/11/19 22:55</td>\n      <td>17 Church St, Seattle, WA 98101</td>\n      <td>5</td>\n      <td>5.98</td>\n    </tr>\n    <tr>\n      <th>...</th>\n      <td>...</td>\n      <td>...</td>\n      <td>...</td>\n      <td>...</td>\n      <td>...</td>\n      <td>...</td>\n      <td>...</td>\n      <td>...</td>\n    </tr>\n    <tr>\n      <th>186845</th>\n      <td>194090</td>\n      <td>Google Phone</td>\n      <td>1</td>\n      <td>600.00</td>\n      <td>04/08/19 17:11</td>\n      <td>177 Jackson St, Los Angeles, CA 90001</td>\n      <td>4</td>\n      <td>600.00</td>\n    </tr>\n    <tr>\n      <th>186846</th>\n      <td>194091</td>\n      <td>AA Batteries (4-pack)</td>\n      <td>1</td>\n      <td>3.84</td>\n      <td>04/15/19 16:02</td>\n      <td>311 Forest St, Austin, TX 73301</td>\n      <td>4</td>\n      <td>3.84</td>\n    </tr>\n    <tr>\n      <th>186847</th>\n      <td>194092</td>\n      <td>AAA Batteries (4-pack)</td>\n      <td>2</td>\n      <td>2.99</td>\n      <td>04/28/19 14:36</td>\n      <td>347 Sunset St, San Francisco, CA 94016</td>\n      <td>4</td>\n      <td>5.98</td>\n    </tr>\n    <tr>\n      <th>186848</th>\n      <td>194093</td>\n      <td>AA Batteries (4-pack)</td>\n      <td>1</td>\n      <td>3.84</td>\n      <td>04/14/19 15:09</td>\n      <td>835 Lake St, Portland, OR 97035</td>\n      <td>4</td>\n      <td>3.84</td>\n    </tr>\n    <tr>\n      <th>186849</th>\n      <td>194094</td>\n      <td>Lightning Charging Cable</td>\n      <td>1</td>\n      <td>14.95</td>\n      <td>04/18/19 11:08</td>\n      <td>354 North St, Boston, MA 02215</td>\n      <td>4</td>\n      <td>14.95</td>\n    </tr>\n  </tbody>\n</table>\n<p>185950 rows × 8 columns</p>\n</div>"
     },
     "metadata": {},
     "execution_count": 83
    }
   ],
   "source": [
    "# we have only quantity ordered and price details and in the question we need the sales data so creating a new coloumn called sales\n",
    "all_data['sales'] = all_data['Quantity Ordered']*all_data['Price Each']\n",
    "all_data"
   ]
  },
  {
   "cell_type": "code",
   "execution_count": 88,
   "metadata": {},
   "outputs": [
    {
     "output_type": "execute_result",
     "data": {
      "text/plain": [
       "       Quantity Ordered    Price Each         sales\n",
       "Month                                              \n",
       "1                 10903  1.811768e+06  1.822257e+06\n",
       "2                 13449  2.188885e+06  2.202022e+06\n",
       "3                 17005  2.791208e+06  2.807100e+06\n",
       "4                 20558  3.367671e+06  3.390670e+06\n",
       "5                 18667  3.135125e+06  3.152607e+06\n",
       "6                 15253  2.562026e+06  2.577802e+06\n",
       "7                 16072  2.632540e+06  2.647776e+06\n",
       "8                 13448  2.230345e+06  2.244468e+06\n",
       "9                 13109  2.084992e+06  2.097560e+06\n",
       "10                22703  3.715555e+06  3.736727e+06\n",
       "11                19798  3.180601e+06  3.199603e+06\n",
       "12                28114  4.588415e+06  4.613443e+06"
      ],
      "text/html": "<div>\n<style scoped>\n    .dataframe tbody tr th:only-of-type {\n        vertical-align: middle;\n    }\n\n    .dataframe tbody tr th {\n        vertical-align: top;\n    }\n\n    .dataframe thead th {\n        text-align: right;\n    }\n</style>\n<table border=\"1\" class=\"dataframe\">\n  <thead>\n    <tr style=\"text-align: right;\">\n      <th></th>\n      <th>Quantity Ordered</th>\n      <th>Price Each</th>\n      <th>sales</th>\n    </tr>\n    <tr>\n      <th>Month</th>\n      <th></th>\n      <th></th>\n      <th></th>\n    </tr>\n  </thead>\n  <tbody>\n    <tr>\n      <th>1</th>\n      <td>10903</td>\n      <td>1.811768e+06</td>\n      <td>1.822257e+06</td>\n    </tr>\n    <tr>\n      <th>2</th>\n      <td>13449</td>\n      <td>2.188885e+06</td>\n      <td>2.202022e+06</td>\n    </tr>\n    <tr>\n      <th>3</th>\n      <td>17005</td>\n      <td>2.791208e+06</td>\n      <td>2.807100e+06</td>\n    </tr>\n    <tr>\n      <th>4</th>\n      <td>20558</td>\n      <td>3.367671e+06</td>\n      <td>3.390670e+06</td>\n    </tr>\n    <tr>\n      <th>5</th>\n      <td>18667</td>\n      <td>3.135125e+06</td>\n      <td>3.152607e+06</td>\n    </tr>\n    <tr>\n      <th>6</th>\n      <td>15253</td>\n      <td>2.562026e+06</td>\n      <td>2.577802e+06</td>\n    </tr>\n    <tr>\n      <th>7</th>\n      <td>16072</td>\n      <td>2.632540e+06</td>\n      <td>2.647776e+06</td>\n    </tr>\n    <tr>\n      <th>8</th>\n      <td>13448</td>\n      <td>2.230345e+06</td>\n      <td>2.244468e+06</td>\n    </tr>\n    <tr>\n      <th>9</th>\n      <td>13109</td>\n      <td>2.084992e+06</td>\n      <td>2.097560e+06</td>\n    </tr>\n    <tr>\n      <th>10</th>\n      <td>22703</td>\n      <td>3.715555e+06</td>\n      <td>3.736727e+06</td>\n    </tr>\n    <tr>\n      <th>11</th>\n      <td>19798</td>\n      <td>3.180601e+06</td>\n      <td>3.199603e+06</td>\n    </tr>\n    <tr>\n      <th>12</th>\n      <td>28114</td>\n      <td>4.588415e+06</td>\n      <td>4.613443e+06</td>\n    </tr>\n  </tbody>\n</table>\n</div>"
     },
     "metadata": {},
     "execution_count": 88
    }
   ],
   "source": [
    "sales_results = all_data.groupby('Month').sum()\n",
    "sales_results"
   ]
  },
  {
   "cell_type": "code",
   "execution_count": 114,
   "metadata": {},
   "outputs": [
    {
     "output_type": "stream",
     "name": "stdout",
     "text": [
      "range(1, 13)\n"
     ]
    }
   ],
   "source": [
    "# it looks december has high sales , LETS plot the sales\n",
    "months = range(1,13)\n",
    "print(months)"
   ]
  },
  {
   "cell_type": "code",
   "execution_count": 116,
   "metadata": {},
   "outputs": [
    {
     "output_type": "execute_result",
     "data": {
      "text/plain": [
       "<function matplotlib.pyplot.show(close=None, block=None)>"
      ]
     },
     "metadata": {},
     "execution_count": 116
    },
    {
     "output_type": "display_data",
     "data": {
      "text/plain": "<Figure size 432x288 with 1 Axes>",
      "image/svg+xml": "<?xml version=\"1.0\" encoding=\"utf-8\" standalone=\"no\"?>\r\n<!DOCTYPE svg PUBLIC \"-//W3C//DTD SVG 1.1//EN\"\r\n  \"http://www.w3.org/Graphics/SVG/1.1/DTD/svg11.dtd\">\r\n<!-- Created with matplotlib (https://matplotlib.org/) -->\r\n<svg height=\"272.794688pt\" version=\"1.1\" viewBox=\"0 0 376.240625 272.794688\" width=\"376.240625pt\" xmlns=\"http://www.w3.org/2000/svg\" xmlns:xlink=\"http://www.w3.org/1999/xlink\">\r\n <metadata>\r\n  <rdf:RDF xmlns:cc=\"http://creativecommons.org/ns#\" xmlns:dc=\"http://purl.org/dc/elements/1.1/\" xmlns:rdf=\"http://www.w3.org/1999/02/22-rdf-syntax-ns#\">\r\n   <cc:Work>\r\n    <dc:type rdf:resource=\"http://purl.org/dc/dcmitype/StillImage\"/>\r\n    <dc:date>2021-02-28T23:41:35.339570</dc:date>\r\n    <dc:format>image/svg+xml</dc:format>\r\n    <dc:creator>\r\n     <cc:Agent>\r\n      <dc:title>Matplotlib v3.3.2, https://matplotlib.org/</dc:title>\r\n     </cc:Agent>\r\n    </dc:creator>\r\n   </cc:Work>\r\n  </rdf:RDF>\r\n </metadata>\r\n <defs>\r\n  <style type=\"text/css\">*{stroke-linecap:butt;stroke-linejoin:round;}</style>\r\n </defs>\r\n <g id=\"figure_1\">\r\n  <g id=\"patch_1\">\r\n   <path d=\"M 0 272.794688 \r\nL 376.240625 272.794688 \r\nL 376.240625 0 \r\nL 0 0 \r\nz\r\n\" style=\"fill:none;\"/>\r\n  </g>\r\n  <g id=\"axes_1\">\r\n   <g id=\"patch_2\">\r\n    <path d=\"M 34.240625 235.238438 \r\nL 369.040625 235.238438 \r\nL 369.040625 17.798438 \r\nL 34.240625 17.798438 \r\nz\r\n\" style=\"fill:#ffffff;\"/>\r\n   </g>\r\n   <g id=\"patch_3\">\r\n    <path clip-path=\"url(#p1615790bdc)\" d=\"M 49.458807 235.238438 \r\nL 70.09363 235.238438 \r\nL 70.09363 153.441977 \r\nL 49.458807 153.441977 \r\nz\r\n\" style=\"fill:#1f77b4;\"/>\r\n   </g>\r\n   <g id=\"patch_4\">\r\n    <path clip-path=\"url(#p1615790bdc)\" d=\"M 75.252335 235.238438 \r\nL 95.887158 235.238438 \r\nL 95.887158 136.395263 \r\nL 75.252335 136.395263 \r\nz\r\n\" style=\"fill:#1f77b4;\"/>\r\n   </g>\r\n   <g id=\"patch_5\">\r\n    <path clip-path=\"url(#p1615790bdc)\" d=\"M 101.045864 235.238438 \r\nL 121.680687 235.238438 \r\nL 121.680687 109.234855 \r\nL 101.045864 109.234855 \r\nz\r\n\" style=\"fill:#1f77b4;\"/>\r\n   </g>\r\n   <g id=\"patch_6\">\r\n    <path clip-path=\"url(#p1615790bdc)\" d=\"M 126.839392 235.238438 \r\nL 147.474215 235.238438 \r\nL 147.474215 83.039891 \r\nL 126.839392 83.039891 \r\nz\r\n\" style=\"fill:#1f77b4;\"/>\r\n   </g>\r\n   <g id=\"patch_7\">\r\n    <path clip-path=\"url(#p1615790bdc)\" d=\"M 152.632921 235.238438 \r\nL 173.267744 235.238438 \r\nL 173.267744 93.725955 \r\nL 152.632921 93.725955 \r\nz\r\n\" style=\"fill:#1f77b4;\"/>\r\n   </g>\r\n   <g id=\"patch_8\">\r\n    <path clip-path=\"url(#p1615790bdc)\" d=\"M 178.426449 235.238438 \r\nL 199.061272 235.238438 \r\nL 199.061272 119.527464 \r\nL 178.426449 119.527464 \r\nz\r\n\" style=\"fill:#1f77b4;\"/>\r\n   </g>\r\n   <g id=\"patch_9\">\r\n    <path clip-path=\"url(#p1615790bdc)\" d=\"M 204.219978 235.238438 \r\nL 224.854801 235.238438 \r\nL 224.854801 116.386531 \r\nL 204.219978 116.386531 \r\nz\r\n\" style=\"fill:#1f77b4;\"/>\r\n   </g>\r\n   <g id=\"patch_10\">\r\n    <path clip-path=\"url(#p1615790bdc)\" d=\"M 230.013506 235.238438 \r\nL 250.648329 235.238438 \r\nL 250.648329 134.489994 \r\nL 230.013506 134.489994 \r\nz\r\n\" style=\"fill:#1f77b4;\"/>\r\n   </g>\r\n   <g id=\"patch_11\">\r\n    <path clip-path=\"url(#p1615790bdc)\" d=\"M 255.807035 235.238438 \r\nL 276.441858 235.238438 \r\nL 276.441858 141.084309 \r\nL 255.807035 141.084309 \r\nz\r\n\" style=\"fill:#1f77b4;\"/>\r\n   </g>\r\n   <g id=\"patch_12\">\r\n    <path clip-path=\"url(#p1615790bdc)\" d=\"M 281.600563 235.238438 \r\nL 302.235386 235.238438 \r\nL 302.235386 67.506291 \r\nL 281.600563 67.506291 \r\nz\r\n\" style=\"fill:#1f77b4;\"/>\r\n   </g>\r\n   <g id=\"patch_13\">\r\n    <path clip-path=\"url(#p1615790bdc)\" d=\"M 307.394092 235.238438 \r\nL 328.028915 235.238438 \r\nL 328.028915 91.616404 \r\nL 307.394092 91.616404 \r\nz\r\n\" style=\"fill:#1f77b4;\"/>\r\n   </g>\r\n   <g id=\"patch_14\">\r\n    <path clip-path=\"url(#p1615790bdc)\" d=\"M 333.18762 235.238438 \r\nL 353.822443 235.238438 \r\nL 353.822443 28.152723 \r\nL 333.18762 28.152723 \r\nz\r\n\" style=\"fill:#1f77b4;\"/>\r\n   </g>\r\n   <g id=\"matplotlib.axis_1\">\r\n    <g id=\"xtick_1\">\r\n     <g id=\"line2d_1\">\r\n      <defs>\r\n       <path d=\"M 0 0 \r\nL 0 3.5 \r\n\" id=\"m1cf9de53f1\" style=\"stroke:#000000;stroke-width:0.8;\"/>\r\n      </defs>\r\n      <g>\r\n       <use style=\"stroke:#000000;stroke-width:0.8;\" x=\"59.776218\" xlink:href=\"#m1cf9de53f1\" y=\"235.238438\"/>\r\n      </g>\r\n     </g>\r\n     <g id=\"text_1\">\r\n      <!-- 1 -->\r\n      <g transform=\"translate(56.594968 249.836875)scale(0.1 -0.1)\">\r\n       <defs>\r\n        <path d=\"M 12.40625 8.296875 \r\nL 28.515625 8.296875 \r\nL 28.515625 63.921875 \r\nL 10.984375 60.40625 \r\nL 10.984375 69.390625 \r\nL 28.421875 72.90625 \r\nL 38.28125 72.90625 \r\nL 38.28125 8.296875 \r\nL 54.390625 8.296875 \r\nL 54.390625 0 \r\nL 12.40625 0 \r\nz\r\n\" id=\"DejaVuSans-49\"/>\r\n       </defs>\r\n       <use xlink:href=\"#DejaVuSans-49\"/>\r\n      </g>\r\n     </g>\r\n    </g>\r\n    <g id=\"xtick_2\">\r\n     <g id=\"line2d_2\">\r\n      <g>\r\n       <use style=\"stroke:#000000;stroke-width:0.8;\" x=\"85.569747\" xlink:href=\"#m1cf9de53f1\" y=\"235.238438\"/>\r\n      </g>\r\n     </g>\r\n     <g id=\"text_2\">\r\n      <!-- 2 -->\r\n      <g transform=\"translate(82.388497 249.836875)scale(0.1 -0.1)\">\r\n       <defs>\r\n        <path d=\"M 19.1875 8.296875 \r\nL 53.609375 8.296875 \r\nL 53.609375 0 \r\nL 7.328125 0 \r\nL 7.328125 8.296875 \r\nQ 12.9375 14.109375 22.625 23.890625 \r\nQ 32.328125 33.6875 34.8125 36.53125 \r\nQ 39.546875 41.84375 41.421875 45.53125 \r\nQ 43.3125 49.21875 43.3125 52.78125 \r\nQ 43.3125 58.59375 39.234375 62.25 \r\nQ 35.15625 65.921875 28.609375 65.921875 \r\nQ 23.96875 65.921875 18.8125 64.3125 \r\nQ 13.671875 62.703125 7.8125 59.421875 \r\nL 7.8125 69.390625 \r\nQ 13.765625 71.78125 18.9375 73 \r\nQ 24.125 74.21875 28.421875 74.21875 \r\nQ 39.75 74.21875 46.484375 68.546875 \r\nQ 53.21875 62.890625 53.21875 53.421875 \r\nQ 53.21875 48.921875 51.53125 44.890625 \r\nQ 49.859375 40.875 45.40625 35.40625 \r\nQ 44.1875 33.984375 37.640625 27.21875 \r\nQ 31.109375 20.453125 19.1875 8.296875 \r\nz\r\n\" id=\"DejaVuSans-50\"/>\r\n       </defs>\r\n       <use xlink:href=\"#DejaVuSans-50\"/>\r\n      </g>\r\n     </g>\r\n    </g>\r\n    <g id=\"xtick_3\">\r\n     <g id=\"line2d_3\">\r\n      <g>\r\n       <use style=\"stroke:#000000;stroke-width:0.8;\" x=\"111.363275\" xlink:href=\"#m1cf9de53f1\" y=\"235.238438\"/>\r\n      </g>\r\n     </g>\r\n     <g id=\"text_3\">\r\n      <!-- 3 -->\r\n      <g transform=\"translate(108.182025 249.836875)scale(0.1 -0.1)\">\r\n       <defs>\r\n        <path d=\"M 40.578125 39.3125 \r\nQ 47.65625 37.796875 51.625 33 \r\nQ 55.609375 28.21875 55.609375 21.1875 \r\nQ 55.609375 10.40625 48.1875 4.484375 \r\nQ 40.765625 -1.421875 27.09375 -1.421875 \r\nQ 22.515625 -1.421875 17.65625 -0.515625 \r\nQ 12.796875 0.390625 7.625 2.203125 \r\nL 7.625 11.71875 \r\nQ 11.71875 9.328125 16.59375 8.109375 \r\nQ 21.484375 6.890625 26.8125 6.890625 \r\nQ 36.078125 6.890625 40.9375 10.546875 \r\nQ 45.796875 14.203125 45.796875 21.1875 \r\nQ 45.796875 27.640625 41.28125 31.265625 \r\nQ 36.765625 34.90625 28.71875 34.90625 \r\nL 20.21875 34.90625 \r\nL 20.21875 43.015625 \r\nL 29.109375 43.015625 \r\nQ 36.375 43.015625 40.234375 45.921875 \r\nQ 44.09375 48.828125 44.09375 54.296875 \r\nQ 44.09375 59.90625 40.109375 62.90625 \r\nQ 36.140625 65.921875 28.71875 65.921875 \r\nQ 24.65625 65.921875 20.015625 65.03125 \r\nQ 15.375 64.15625 9.8125 62.3125 \r\nL 9.8125 71.09375 \r\nQ 15.4375 72.65625 20.34375 73.4375 \r\nQ 25.25 74.21875 29.59375 74.21875 \r\nQ 40.828125 74.21875 47.359375 69.109375 \r\nQ 53.90625 64.015625 53.90625 55.328125 \r\nQ 53.90625 49.265625 50.4375 45.09375 \r\nQ 46.96875 40.921875 40.578125 39.3125 \r\nz\r\n\" id=\"DejaVuSans-51\"/>\r\n       </defs>\r\n       <use xlink:href=\"#DejaVuSans-51\"/>\r\n      </g>\r\n     </g>\r\n    </g>\r\n    <g id=\"xtick_4\">\r\n     <g id=\"line2d_4\">\r\n      <g>\r\n       <use style=\"stroke:#000000;stroke-width:0.8;\" x=\"137.156804\" xlink:href=\"#m1cf9de53f1\" y=\"235.238438\"/>\r\n      </g>\r\n     </g>\r\n     <g id=\"text_4\">\r\n      <!-- 4 -->\r\n      <g transform=\"translate(133.975554 249.836875)scale(0.1 -0.1)\">\r\n       <defs>\r\n        <path d=\"M 37.796875 64.3125 \r\nL 12.890625 25.390625 \r\nL 37.796875 25.390625 \r\nz\r\nM 35.203125 72.90625 \r\nL 47.609375 72.90625 \r\nL 47.609375 25.390625 \r\nL 58.015625 25.390625 \r\nL 58.015625 17.1875 \r\nL 47.609375 17.1875 \r\nL 47.609375 0 \r\nL 37.796875 0 \r\nL 37.796875 17.1875 \r\nL 4.890625 17.1875 \r\nL 4.890625 26.703125 \r\nz\r\n\" id=\"DejaVuSans-52\"/>\r\n       </defs>\r\n       <use xlink:href=\"#DejaVuSans-52\"/>\r\n      </g>\r\n     </g>\r\n    </g>\r\n    <g id=\"xtick_5\">\r\n     <g id=\"line2d_5\">\r\n      <g>\r\n       <use style=\"stroke:#000000;stroke-width:0.8;\" x=\"162.950332\" xlink:href=\"#m1cf9de53f1\" y=\"235.238438\"/>\r\n      </g>\r\n     </g>\r\n     <g id=\"text_5\">\r\n      <!-- 5 -->\r\n      <g transform=\"translate(159.769082 249.836875)scale(0.1 -0.1)\">\r\n       <defs>\r\n        <path d=\"M 10.796875 72.90625 \r\nL 49.515625 72.90625 \r\nL 49.515625 64.59375 \r\nL 19.828125 64.59375 \r\nL 19.828125 46.734375 \r\nQ 21.96875 47.46875 24.109375 47.828125 \r\nQ 26.265625 48.1875 28.421875 48.1875 \r\nQ 40.625 48.1875 47.75 41.5 \r\nQ 54.890625 34.8125 54.890625 23.390625 \r\nQ 54.890625 11.625 47.5625 5.09375 \r\nQ 40.234375 -1.421875 26.90625 -1.421875 \r\nQ 22.3125 -1.421875 17.546875 -0.640625 \r\nQ 12.796875 0.140625 7.71875 1.703125 \r\nL 7.71875 11.625 \r\nQ 12.109375 9.234375 16.796875 8.0625 \r\nQ 21.484375 6.890625 26.703125 6.890625 \r\nQ 35.15625 6.890625 40.078125 11.328125 \r\nQ 45.015625 15.765625 45.015625 23.390625 \r\nQ 45.015625 31 40.078125 35.4375 \r\nQ 35.15625 39.890625 26.703125 39.890625 \r\nQ 22.75 39.890625 18.8125 39.015625 \r\nQ 14.890625 38.140625 10.796875 36.28125 \r\nz\r\n\" id=\"DejaVuSans-53\"/>\r\n       </defs>\r\n       <use xlink:href=\"#DejaVuSans-53\"/>\r\n      </g>\r\n     </g>\r\n    </g>\r\n    <g id=\"xtick_6\">\r\n     <g id=\"line2d_6\">\r\n      <g>\r\n       <use style=\"stroke:#000000;stroke-width:0.8;\" x=\"188.743861\" xlink:href=\"#m1cf9de53f1\" y=\"235.238438\"/>\r\n      </g>\r\n     </g>\r\n     <g id=\"text_6\">\r\n      <!-- 6 -->\r\n      <g transform=\"translate(185.562611 249.836875)scale(0.1 -0.1)\">\r\n       <defs>\r\n        <path d=\"M 33.015625 40.375 \r\nQ 26.375 40.375 22.484375 35.828125 \r\nQ 18.609375 31.296875 18.609375 23.390625 \r\nQ 18.609375 15.53125 22.484375 10.953125 \r\nQ 26.375 6.390625 33.015625 6.390625 \r\nQ 39.65625 6.390625 43.53125 10.953125 \r\nQ 47.40625 15.53125 47.40625 23.390625 \r\nQ 47.40625 31.296875 43.53125 35.828125 \r\nQ 39.65625 40.375 33.015625 40.375 \r\nz\r\nM 52.59375 71.296875 \r\nL 52.59375 62.3125 \r\nQ 48.875 64.0625 45.09375 64.984375 \r\nQ 41.3125 65.921875 37.59375 65.921875 \r\nQ 27.828125 65.921875 22.671875 59.328125 \r\nQ 17.53125 52.734375 16.796875 39.40625 \r\nQ 19.671875 43.65625 24.015625 45.921875 \r\nQ 28.375 48.1875 33.59375 48.1875 \r\nQ 44.578125 48.1875 50.953125 41.515625 \r\nQ 57.328125 34.859375 57.328125 23.390625 \r\nQ 57.328125 12.15625 50.6875 5.359375 \r\nQ 44.046875 -1.421875 33.015625 -1.421875 \r\nQ 20.359375 -1.421875 13.671875 8.265625 \r\nQ 6.984375 17.96875 6.984375 36.375 \r\nQ 6.984375 53.65625 15.1875 63.9375 \r\nQ 23.390625 74.21875 37.203125 74.21875 \r\nQ 40.921875 74.21875 44.703125 73.484375 \r\nQ 48.484375 72.75 52.59375 71.296875 \r\nz\r\n\" id=\"DejaVuSans-54\"/>\r\n       </defs>\r\n       <use xlink:href=\"#DejaVuSans-54\"/>\r\n      </g>\r\n     </g>\r\n    </g>\r\n    <g id=\"xtick_7\">\r\n     <g id=\"line2d_7\">\r\n      <g>\r\n       <use style=\"stroke:#000000;stroke-width:0.8;\" x=\"214.537389\" xlink:href=\"#m1cf9de53f1\" y=\"235.238438\"/>\r\n      </g>\r\n     </g>\r\n     <g id=\"text_7\">\r\n      <!-- 7 -->\r\n      <g transform=\"translate(211.356139 249.836875)scale(0.1 -0.1)\">\r\n       <defs>\r\n        <path d=\"M 8.203125 72.90625 \r\nL 55.078125 72.90625 \r\nL 55.078125 68.703125 \r\nL 28.609375 0 \r\nL 18.3125 0 \r\nL 43.21875 64.59375 \r\nL 8.203125 64.59375 \r\nz\r\n\" id=\"DejaVuSans-55\"/>\r\n       </defs>\r\n       <use xlink:href=\"#DejaVuSans-55\"/>\r\n      </g>\r\n     </g>\r\n    </g>\r\n    <g id=\"xtick_8\">\r\n     <g id=\"line2d_8\">\r\n      <g>\r\n       <use style=\"stroke:#000000;stroke-width:0.8;\" x=\"240.330918\" xlink:href=\"#m1cf9de53f1\" y=\"235.238438\"/>\r\n      </g>\r\n     </g>\r\n     <g id=\"text_8\">\r\n      <!-- 8 -->\r\n      <g transform=\"translate(237.149668 249.836875)scale(0.1 -0.1)\">\r\n       <defs>\r\n        <path d=\"M 31.78125 34.625 \r\nQ 24.75 34.625 20.71875 30.859375 \r\nQ 16.703125 27.09375 16.703125 20.515625 \r\nQ 16.703125 13.921875 20.71875 10.15625 \r\nQ 24.75 6.390625 31.78125 6.390625 \r\nQ 38.8125 6.390625 42.859375 10.171875 \r\nQ 46.921875 13.96875 46.921875 20.515625 \r\nQ 46.921875 27.09375 42.890625 30.859375 \r\nQ 38.875 34.625 31.78125 34.625 \r\nz\r\nM 21.921875 38.8125 \r\nQ 15.578125 40.375 12.03125 44.71875 \r\nQ 8.5 49.078125 8.5 55.328125 \r\nQ 8.5 64.0625 14.71875 69.140625 \r\nQ 20.953125 74.21875 31.78125 74.21875 \r\nQ 42.671875 74.21875 48.875 69.140625 \r\nQ 55.078125 64.0625 55.078125 55.328125 \r\nQ 55.078125 49.078125 51.53125 44.71875 \r\nQ 48 40.375 41.703125 38.8125 \r\nQ 48.828125 37.15625 52.796875 32.3125 \r\nQ 56.78125 27.484375 56.78125 20.515625 \r\nQ 56.78125 9.90625 50.3125 4.234375 \r\nQ 43.84375 -1.421875 31.78125 -1.421875 \r\nQ 19.734375 -1.421875 13.25 4.234375 \r\nQ 6.78125 9.90625 6.78125 20.515625 \r\nQ 6.78125 27.484375 10.78125 32.3125 \r\nQ 14.796875 37.15625 21.921875 38.8125 \r\nz\r\nM 18.3125 54.390625 \r\nQ 18.3125 48.734375 21.84375 45.5625 \r\nQ 25.390625 42.390625 31.78125 42.390625 \r\nQ 38.140625 42.390625 41.71875 45.5625 \r\nQ 45.3125 48.734375 45.3125 54.390625 \r\nQ 45.3125 60.0625 41.71875 63.234375 \r\nQ 38.140625 66.40625 31.78125 66.40625 \r\nQ 25.390625 66.40625 21.84375 63.234375 \r\nQ 18.3125 60.0625 18.3125 54.390625 \r\nz\r\n\" id=\"DejaVuSans-56\"/>\r\n       </defs>\r\n       <use xlink:href=\"#DejaVuSans-56\"/>\r\n      </g>\r\n     </g>\r\n    </g>\r\n    <g id=\"xtick_9\">\r\n     <g id=\"line2d_9\">\r\n      <g>\r\n       <use style=\"stroke:#000000;stroke-width:0.8;\" x=\"266.124446\" xlink:href=\"#m1cf9de53f1\" y=\"235.238438\"/>\r\n      </g>\r\n     </g>\r\n     <g id=\"text_9\">\r\n      <!-- 9 -->\r\n      <g transform=\"translate(262.943196 249.836875)scale(0.1 -0.1)\">\r\n       <defs>\r\n        <path d=\"M 10.984375 1.515625 \r\nL 10.984375 10.5 \r\nQ 14.703125 8.734375 18.5 7.8125 \r\nQ 22.3125 6.890625 25.984375 6.890625 \r\nQ 35.75 6.890625 40.890625 13.453125 \r\nQ 46.046875 20.015625 46.78125 33.40625 \r\nQ 43.953125 29.203125 39.59375 26.953125 \r\nQ 35.25 24.703125 29.984375 24.703125 \r\nQ 19.046875 24.703125 12.671875 31.3125 \r\nQ 6.296875 37.9375 6.296875 49.421875 \r\nQ 6.296875 60.640625 12.9375 67.421875 \r\nQ 19.578125 74.21875 30.609375 74.21875 \r\nQ 43.265625 74.21875 49.921875 64.515625 \r\nQ 56.59375 54.828125 56.59375 36.375 \r\nQ 56.59375 19.140625 48.40625 8.859375 \r\nQ 40.234375 -1.421875 26.421875 -1.421875 \r\nQ 22.703125 -1.421875 18.890625 -0.6875 \r\nQ 15.09375 0.046875 10.984375 1.515625 \r\nz\r\nM 30.609375 32.421875 \r\nQ 37.25 32.421875 41.125 36.953125 \r\nQ 45.015625 41.5 45.015625 49.421875 \r\nQ 45.015625 57.28125 41.125 61.84375 \r\nQ 37.25 66.40625 30.609375 66.40625 \r\nQ 23.96875 66.40625 20.09375 61.84375 \r\nQ 16.21875 57.28125 16.21875 49.421875 \r\nQ 16.21875 41.5 20.09375 36.953125 \r\nQ 23.96875 32.421875 30.609375 32.421875 \r\nz\r\n\" id=\"DejaVuSans-57\"/>\r\n       </defs>\r\n       <use xlink:href=\"#DejaVuSans-57\"/>\r\n      </g>\r\n     </g>\r\n    </g>\r\n    <g id=\"xtick_10\">\r\n     <g id=\"line2d_10\">\r\n      <g>\r\n       <use style=\"stroke:#000000;stroke-width:0.8;\" x=\"291.917975\" xlink:href=\"#m1cf9de53f1\" y=\"235.238438\"/>\r\n      </g>\r\n     </g>\r\n     <g id=\"text_10\">\r\n      <!-- 10 -->\r\n      <g transform=\"translate(285.555475 249.836875)scale(0.1 -0.1)\">\r\n       <defs>\r\n        <path d=\"M 31.78125 66.40625 \r\nQ 24.171875 66.40625 20.328125 58.90625 \r\nQ 16.5 51.421875 16.5 36.375 \r\nQ 16.5 21.390625 20.328125 13.890625 \r\nQ 24.171875 6.390625 31.78125 6.390625 \r\nQ 39.453125 6.390625 43.28125 13.890625 \r\nQ 47.125 21.390625 47.125 36.375 \r\nQ 47.125 51.421875 43.28125 58.90625 \r\nQ 39.453125 66.40625 31.78125 66.40625 \r\nz\r\nM 31.78125 74.21875 \r\nQ 44.046875 74.21875 50.515625 64.515625 \r\nQ 56.984375 54.828125 56.984375 36.375 \r\nQ 56.984375 17.96875 50.515625 8.265625 \r\nQ 44.046875 -1.421875 31.78125 -1.421875 \r\nQ 19.53125 -1.421875 13.0625 8.265625 \r\nQ 6.59375 17.96875 6.59375 36.375 \r\nQ 6.59375 54.828125 13.0625 64.515625 \r\nQ 19.53125 74.21875 31.78125 74.21875 \r\nz\r\n\" id=\"DejaVuSans-48\"/>\r\n       </defs>\r\n       <use xlink:href=\"#DejaVuSans-49\"/>\r\n       <use x=\"63.623047\" xlink:href=\"#DejaVuSans-48\"/>\r\n      </g>\r\n     </g>\r\n    </g>\r\n    <g id=\"xtick_11\">\r\n     <g id=\"line2d_11\">\r\n      <g>\r\n       <use style=\"stroke:#000000;stroke-width:0.8;\" x=\"317.711503\" xlink:href=\"#m1cf9de53f1\" y=\"235.238438\"/>\r\n      </g>\r\n     </g>\r\n     <g id=\"text_11\">\r\n      <!-- 11 -->\r\n      <g transform=\"translate(311.349003 249.836875)scale(0.1 -0.1)\">\r\n       <use xlink:href=\"#DejaVuSans-49\"/>\r\n       <use x=\"63.623047\" xlink:href=\"#DejaVuSans-49\"/>\r\n      </g>\r\n     </g>\r\n    </g>\r\n    <g id=\"xtick_12\">\r\n     <g id=\"line2d_12\">\r\n      <g>\r\n       <use style=\"stroke:#000000;stroke-width:0.8;\" x=\"343.505032\" xlink:href=\"#m1cf9de53f1\" y=\"235.238438\"/>\r\n      </g>\r\n     </g>\r\n     <g id=\"text_12\">\r\n      <!-- 12 -->\r\n      <g transform=\"translate(337.142532 249.836875)scale(0.1 -0.1)\">\r\n       <use xlink:href=\"#DejaVuSans-49\"/>\r\n       <use x=\"63.623047\" xlink:href=\"#DejaVuSans-50\"/>\r\n      </g>\r\n     </g>\r\n    </g>\r\n    <g id=\"text_13\">\r\n     <!-- Months -->\r\n     <g transform=\"translate(183.364844 263.515)scale(0.1 -0.1)\">\r\n      <defs>\r\n       <path d=\"M 9.8125 72.90625 \r\nL 24.515625 72.90625 \r\nL 43.109375 23.296875 \r\nL 61.8125 72.90625 \r\nL 76.515625 72.90625 \r\nL 76.515625 0 \r\nL 66.890625 0 \r\nL 66.890625 64.015625 \r\nL 48.09375 14.015625 \r\nL 38.1875 14.015625 \r\nL 19.390625 64.015625 \r\nL 19.390625 0 \r\nL 9.8125 0 \r\nz\r\n\" id=\"DejaVuSans-77\"/>\r\n       <path d=\"M 30.609375 48.390625 \r\nQ 23.390625 48.390625 19.1875 42.75 \r\nQ 14.984375 37.109375 14.984375 27.296875 \r\nQ 14.984375 17.484375 19.15625 11.84375 \r\nQ 23.34375 6.203125 30.609375 6.203125 \r\nQ 37.796875 6.203125 41.984375 11.859375 \r\nQ 46.1875 17.53125 46.1875 27.296875 \r\nQ 46.1875 37.015625 41.984375 42.703125 \r\nQ 37.796875 48.390625 30.609375 48.390625 \r\nz\r\nM 30.609375 56 \r\nQ 42.328125 56 49.015625 48.375 \r\nQ 55.71875 40.765625 55.71875 27.296875 \r\nQ 55.71875 13.875 49.015625 6.21875 \r\nQ 42.328125 -1.421875 30.609375 -1.421875 \r\nQ 18.84375 -1.421875 12.171875 6.21875 \r\nQ 5.515625 13.875 5.515625 27.296875 \r\nQ 5.515625 40.765625 12.171875 48.375 \r\nQ 18.84375 56 30.609375 56 \r\nz\r\n\" id=\"DejaVuSans-111\"/>\r\n       <path d=\"M 54.890625 33.015625 \r\nL 54.890625 0 \r\nL 45.90625 0 \r\nL 45.90625 32.71875 \r\nQ 45.90625 40.484375 42.875 44.328125 \r\nQ 39.84375 48.1875 33.796875 48.1875 \r\nQ 26.515625 48.1875 22.3125 43.546875 \r\nQ 18.109375 38.921875 18.109375 30.90625 \r\nL 18.109375 0 \r\nL 9.078125 0 \r\nL 9.078125 54.6875 \r\nL 18.109375 54.6875 \r\nL 18.109375 46.1875 \r\nQ 21.34375 51.125 25.703125 53.5625 \r\nQ 30.078125 56 35.796875 56 \r\nQ 45.21875 56 50.046875 50.171875 \r\nQ 54.890625 44.34375 54.890625 33.015625 \r\nz\r\n\" id=\"DejaVuSans-110\"/>\r\n       <path d=\"M 18.3125 70.21875 \r\nL 18.3125 54.6875 \r\nL 36.8125 54.6875 \r\nL 36.8125 47.703125 \r\nL 18.3125 47.703125 \r\nL 18.3125 18.015625 \r\nQ 18.3125 11.328125 20.140625 9.421875 \r\nQ 21.96875 7.515625 27.59375 7.515625 \r\nL 36.8125 7.515625 \r\nL 36.8125 0 \r\nL 27.59375 0 \r\nQ 17.1875 0 13.234375 3.875 \r\nQ 9.28125 7.765625 9.28125 18.015625 \r\nL 9.28125 47.703125 \r\nL 2.6875 47.703125 \r\nL 2.6875 54.6875 \r\nL 9.28125 54.6875 \r\nL 9.28125 70.21875 \r\nz\r\n\" id=\"DejaVuSans-116\"/>\r\n       <path d=\"M 54.890625 33.015625 \r\nL 54.890625 0 \r\nL 45.90625 0 \r\nL 45.90625 32.71875 \r\nQ 45.90625 40.484375 42.875 44.328125 \r\nQ 39.84375 48.1875 33.796875 48.1875 \r\nQ 26.515625 48.1875 22.3125 43.546875 \r\nQ 18.109375 38.921875 18.109375 30.90625 \r\nL 18.109375 0 \r\nL 9.078125 0 \r\nL 9.078125 75.984375 \r\nL 18.109375 75.984375 \r\nL 18.109375 46.1875 \r\nQ 21.34375 51.125 25.703125 53.5625 \r\nQ 30.078125 56 35.796875 56 \r\nQ 45.21875 56 50.046875 50.171875 \r\nQ 54.890625 44.34375 54.890625 33.015625 \r\nz\r\n\" id=\"DejaVuSans-104\"/>\r\n       <path d=\"M 44.28125 53.078125 \r\nL 44.28125 44.578125 \r\nQ 40.484375 46.53125 36.375 47.5 \r\nQ 32.28125 48.484375 27.875 48.484375 \r\nQ 21.1875 48.484375 17.84375 46.4375 \r\nQ 14.5 44.390625 14.5 40.28125 \r\nQ 14.5 37.15625 16.890625 35.375 \r\nQ 19.28125 33.59375 26.515625 31.984375 \r\nL 29.59375 31.296875 \r\nQ 39.15625 29.25 43.1875 25.515625 \r\nQ 47.21875 21.78125 47.21875 15.09375 \r\nQ 47.21875 7.46875 41.1875 3.015625 \r\nQ 35.15625 -1.421875 24.609375 -1.421875 \r\nQ 20.21875 -1.421875 15.453125 -0.5625 \r\nQ 10.6875 0.296875 5.421875 2 \r\nL 5.421875 11.28125 \r\nQ 10.40625 8.6875 15.234375 7.390625 \r\nQ 20.0625 6.109375 24.8125 6.109375 \r\nQ 31.15625 6.109375 34.5625 8.28125 \r\nQ 37.984375 10.453125 37.984375 14.40625 \r\nQ 37.984375 18.0625 35.515625 20.015625 \r\nQ 33.0625 21.96875 24.703125 23.78125 \r\nL 21.578125 24.515625 \r\nQ 13.234375 26.265625 9.515625 29.90625 \r\nQ 5.8125 33.546875 5.8125 39.890625 \r\nQ 5.8125 47.609375 11.28125 51.796875 \r\nQ 16.75 56 26.8125 56 \r\nQ 31.78125 56 36.171875 55.265625 \r\nQ 40.578125 54.546875 44.28125 53.078125 \r\nz\r\n\" id=\"DejaVuSans-115\"/>\r\n      </defs>\r\n      <use xlink:href=\"#DejaVuSans-77\"/>\r\n      <use x=\"86.279297\" xlink:href=\"#DejaVuSans-111\"/>\r\n      <use x=\"147.460938\" xlink:href=\"#DejaVuSans-110\"/>\r\n      <use x=\"210.839844\" xlink:href=\"#DejaVuSans-116\"/>\r\n      <use x=\"250.048828\" xlink:href=\"#DejaVuSans-104\"/>\r\n      <use x=\"313.427734\" xlink:href=\"#DejaVuSans-115\"/>\r\n     </g>\r\n    </g>\r\n   </g>\r\n   <g id=\"matplotlib.axis_2\">\r\n    <g id=\"ytick_1\">\r\n     <g id=\"line2d_13\">\r\n      <defs>\r\n       <path d=\"M 0 0 \r\nL -3.5 0 \r\n\" id=\"mb3efbd6065\" style=\"stroke:#000000;stroke-width:0.8;\"/>\r\n      </defs>\r\n      <g>\r\n       <use style=\"stroke:#000000;stroke-width:0.8;\" x=\"34.240625\" xlink:href=\"#mb3efbd6065\" y=\"235.238438\"/>\r\n      </g>\r\n     </g>\r\n     <g id=\"text_14\">\r\n      <!-- 0 -->\r\n      <g transform=\"translate(20.878125 239.037656)scale(0.1 -0.1)\">\r\n       <use xlink:href=\"#DejaVuSans-48\"/>\r\n      </g>\r\n     </g>\r\n    </g>\r\n    <g id=\"ytick_2\">\r\n     <g id=\"line2d_14\">\r\n      <g>\r\n       <use style=\"stroke:#000000;stroke-width:0.8;\" x=\"34.240625\" xlink:href=\"#mb3efbd6065\" y=\"190.350986\"/>\r\n      </g>\r\n     </g>\r\n     <g id=\"text_15\">\r\n      <!-- 1 -->\r\n      <g transform=\"translate(20.878125 194.150205)scale(0.1 -0.1)\">\r\n       <use xlink:href=\"#DejaVuSans-49\"/>\r\n      </g>\r\n     </g>\r\n    </g>\r\n    <g id=\"ytick_3\">\r\n     <g id=\"line2d_15\">\r\n      <g>\r\n       <use style=\"stroke:#000000;stroke-width:0.8;\" x=\"34.240625\" xlink:href=\"#mb3efbd6065\" y=\"145.463534\"/>\r\n      </g>\r\n     </g>\r\n     <g id=\"text_16\">\r\n      <!-- 2 -->\r\n      <g transform=\"translate(20.878125 149.262753)scale(0.1 -0.1)\">\r\n       <use xlink:href=\"#DejaVuSans-50\"/>\r\n      </g>\r\n     </g>\r\n    </g>\r\n    <g id=\"ytick_4\">\r\n     <g id=\"line2d_16\">\r\n      <g>\r\n       <use style=\"stroke:#000000;stroke-width:0.8;\" x=\"34.240625\" xlink:href=\"#mb3efbd6065\" y=\"100.576083\"/>\r\n      </g>\r\n     </g>\r\n     <g id=\"text_17\">\r\n      <!-- 3 -->\r\n      <g transform=\"translate(20.878125 104.375302)scale(0.1 -0.1)\">\r\n       <use xlink:href=\"#DejaVuSans-51\"/>\r\n      </g>\r\n     </g>\r\n    </g>\r\n    <g id=\"ytick_5\">\r\n     <g id=\"line2d_17\">\r\n      <g>\r\n       <use style=\"stroke:#000000;stroke-width:0.8;\" x=\"34.240625\" xlink:href=\"#mb3efbd6065\" y=\"55.688631\"/>\r\n      </g>\r\n     </g>\r\n     <g id=\"text_18\">\r\n      <!-- 4 -->\r\n      <g transform=\"translate(20.878125 59.48785)scale(0.1 -0.1)\">\r\n       <use xlink:href=\"#DejaVuSans-52\"/>\r\n      </g>\r\n     </g>\r\n    </g>\r\n    <g id=\"text_19\">\r\n     <!-- Sales in USD -->\r\n     <g transform=\"translate(14.798437 158.246563)rotate(-90)scale(0.1 -0.1)\">\r\n      <defs>\r\n       <path d=\"M 53.515625 70.515625 \r\nL 53.515625 60.890625 \r\nQ 47.90625 63.578125 42.921875 64.890625 \r\nQ 37.9375 66.21875 33.296875 66.21875 \r\nQ 25.25 66.21875 20.875 63.09375 \r\nQ 16.5 59.96875 16.5 54.203125 \r\nQ 16.5 49.359375 19.40625 46.890625 \r\nQ 22.3125 44.4375 30.421875 42.921875 \r\nL 36.375 41.703125 \r\nQ 47.40625 39.59375 52.65625 34.296875 \r\nQ 57.90625 29 57.90625 20.125 \r\nQ 57.90625 9.515625 50.796875 4.046875 \r\nQ 43.703125 -1.421875 29.984375 -1.421875 \r\nQ 24.8125 -1.421875 18.96875 -0.25 \r\nQ 13.140625 0.921875 6.890625 3.21875 \r\nL 6.890625 13.375 \r\nQ 12.890625 10.015625 18.65625 8.296875 \r\nQ 24.421875 6.59375 29.984375 6.59375 \r\nQ 38.421875 6.59375 43.015625 9.90625 \r\nQ 47.609375 13.234375 47.609375 19.390625 \r\nQ 47.609375 24.75 44.3125 27.78125 \r\nQ 41.015625 30.8125 33.5 32.328125 \r\nL 27.484375 33.5 \r\nQ 16.453125 35.6875 11.515625 40.375 \r\nQ 6.59375 45.0625 6.59375 53.421875 \r\nQ 6.59375 63.09375 13.40625 68.65625 \r\nQ 20.21875 74.21875 32.171875 74.21875 \r\nQ 37.3125 74.21875 42.625 73.28125 \r\nQ 47.953125 72.359375 53.515625 70.515625 \r\nz\r\n\" id=\"DejaVuSans-83\"/>\r\n       <path d=\"M 34.28125 27.484375 \r\nQ 23.390625 27.484375 19.1875 25 \r\nQ 14.984375 22.515625 14.984375 16.5 \r\nQ 14.984375 11.71875 18.140625 8.90625 \r\nQ 21.296875 6.109375 26.703125 6.109375 \r\nQ 34.1875 6.109375 38.703125 11.40625 \r\nQ 43.21875 16.703125 43.21875 25.484375 \r\nL 43.21875 27.484375 \r\nz\r\nM 52.203125 31.203125 \r\nL 52.203125 0 \r\nL 43.21875 0 \r\nL 43.21875 8.296875 \r\nQ 40.140625 3.328125 35.546875 0.953125 \r\nQ 30.953125 -1.421875 24.3125 -1.421875 \r\nQ 15.921875 -1.421875 10.953125 3.296875 \r\nQ 6 8.015625 6 15.921875 \r\nQ 6 25.140625 12.171875 29.828125 \r\nQ 18.359375 34.515625 30.609375 34.515625 \r\nL 43.21875 34.515625 \r\nL 43.21875 35.40625 \r\nQ 43.21875 41.609375 39.140625 45 \r\nQ 35.0625 48.390625 27.6875 48.390625 \r\nQ 23 48.390625 18.546875 47.265625 \r\nQ 14.109375 46.140625 10.015625 43.890625 \r\nL 10.015625 52.203125 \r\nQ 14.9375 54.109375 19.578125 55.046875 \r\nQ 24.21875 56 28.609375 56 \r\nQ 40.484375 56 46.34375 49.84375 \r\nQ 52.203125 43.703125 52.203125 31.203125 \r\nz\r\n\" id=\"DejaVuSans-97\"/>\r\n       <path d=\"M 9.421875 75.984375 \r\nL 18.40625 75.984375 \r\nL 18.40625 0 \r\nL 9.421875 0 \r\nz\r\n\" id=\"DejaVuSans-108\"/>\r\n       <path d=\"M 56.203125 29.59375 \r\nL 56.203125 25.203125 \r\nL 14.890625 25.203125 \r\nQ 15.484375 15.921875 20.484375 11.0625 \r\nQ 25.484375 6.203125 34.421875 6.203125 \r\nQ 39.59375 6.203125 44.453125 7.46875 \r\nQ 49.3125 8.734375 54.109375 11.28125 \r\nL 54.109375 2.78125 \r\nQ 49.265625 0.734375 44.1875 -0.34375 \r\nQ 39.109375 -1.421875 33.890625 -1.421875 \r\nQ 20.796875 -1.421875 13.15625 6.1875 \r\nQ 5.515625 13.8125 5.515625 26.8125 \r\nQ 5.515625 40.234375 12.765625 48.109375 \r\nQ 20.015625 56 32.328125 56 \r\nQ 43.359375 56 49.78125 48.890625 \r\nQ 56.203125 41.796875 56.203125 29.59375 \r\nz\r\nM 47.21875 32.234375 \r\nQ 47.125 39.59375 43.09375 43.984375 \r\nQ 39.0625 48.390625 32.421875 48.390625 \r\nQ 24.90625 48.390625 20.390625 44.140625 \r\nQ 15.875 39.890625 15.1875 32.171875 \r\nz\r\n\" id=\"DejaVuSans-101\"/>\r\n       <path id=\"DejaVuSans-32\"/>\r\n       <path d=\"M 9.421875 54.6875 \r\nL 18.40625 54.6875 \r\nL 18.40625 0 \r\nL 9.421875 0 \r\nz\r\nM 9.421875 75.984375 \r\nL 18.40625 75.984375 \r\nL 18.40625 64.59375 \r\nL 9.421875 64.59375 \r\nz\r\n\" id=\"DejaVuSans-105\"/>\r\n       <path d=\"M 8.6875 72.90625 \r\nL 18.609375 72.90625 \r\nL 18.609375 28.609375 \r\nQ 18.609375 16.890625 22.84375 11.734375 \r\nQ 27.09375 6.59375 36.625 6.59375 \r\nQ 46.09375 6.59375 50.34375 11.734375 \r\nQ 54.59375 16.890625 54.59375 28.609375 \r\nL 54.59375 72.90625 \r\nL 64.5 72.90625 \r\nL 64.5 27.390625 \r\nQ 64.5 13.140625 57.4375 5.859375 \r\nQ 50.390625 -1.421875 36.625 -1.421875 \r\nQ 22.796875 -1.421875 15.734375 5.859375 \r\nQ 8.6875 13.140625 8.6875 27.390625 \r\nz\r\n\" id=\"DejaVuSans-85\"/>\r\n       <path d=\"M 19.671875 64.796875 \r\nL 19.671875 8.109375 \r\nL 31.59375 8.109375 \r\nQ 46.6875 8.109375 53.6875 14.9375 \r\nQ 60.6875 21.78125 60.6875 36.53125 \r\nQ 60.6875 51.171875 53.6875 57.984375 \r\nQ 46.6875 64.796875 31.59375 64.796875 \r\nz\r\nM 9.8125 72.90625 \r\nL 30.078125 72.90625 \r\nQ 51.265625 72.90625 61.171875 64.09375 \r\nQ 71.09375 55.28125 71.09375 36.53125 \r\nQ 71.09375 17.671875 61.125 8.828125 \r\nQ 51.171875 0 30.078125 0 \r\nL 9.8125 0 \r\nz\r\n\" id=\"DejaVuSans-68\"/>\r\n      </defs>\r\n      <use xlink:href=\"#DejaVuSans-83\"/>\r\n      <use x=\"63.476562\" xlink:href=\"#DejaVuSans-97\"/>\r\n      <use x=\"124.755859\" xlink:href=\"#DejaVuSans-108\"/>\r\n      <use x=\"152.539062\" xlink:href=\"#DejaVuSans-101\"/>\r\n      <use x=\"214.0625\" xlink:href=\"#DejaVuSans-115\"/>\r\n      <use x=\"266.162109\" xlink:href=\"#DejaVuSans-32\"/>\r\n      <use x=\"297.949219\" xlink:href=\"#DejaVuSans-105\"/>\r\n      <use x=\"325.732422\" xlink:href=\"#DejaVuSans-110\"/>\r\n      <use x=\"389.111328\" xlink:href=\"#DejaVuSans-32\"/>\r\n      <use x=\"420.898438\" xlink:href=\"#DejaVuSans-85\"/>\r\n      <use x=\"494.091797\" xlink:href=\"#DejaVuSans-83\"/>\r\n      <use x=\"557.568359\" xlink:href=\"#DejaVuSans-68\"/>\r\n     </g>\r\n    </g>\r\n    <g id=\"text_20\">\r\n     <!-- 1e6 -->\r\n     <g transform=\"translate(34.240625 14.798437)scale(0.1 -0.1)\">\r\n      <use xlink:href=\"#DejaVuSans-49\"/>\r\n      <use x=\"63.623047\" xlink:href=\"#DejaVuSans-101\"/>\r\n      <use x=\"125.146484\" xlink:href=\"#DejaVuSans-54\"/>\r\n     </g>\r\n    </g>\r\n   </g>\r\n   <g id=\"patch_15\">\r\n    <path d=\"M 34.240625 235.238438 \r\nL 34.240625 17.798438 \r\n\" style=\"fill:none;stroke:#000000;stroke-linecap:square;stroke-linejoin:miter;stroke-width:0.8;\"/>\r\n   </g>\r\n   <g id=\"patch_16\">\r\n    <path d=\"M 369.040625 235.238438 \r\nL 369.040625 17.798438 \r\n\" style=\"fill:none;stroke:#000000;stroke-linecap:square;stroke-linejoin:miter;stroke-width:0.8;\"/>\r\n   </g>\r\n   <g id=\"patch_17\">\r\n    <path d=\"M 34.240625 235.238438 \r\nL 369.040625 235.238438 \r\n\" style=\"fill:none;stroke:#000000;stroke-linecap:square;stroke-linejoin:miter;stroke-width:0.8;\"/>\r\n   </g>\r\n   <g id=\"patch_18\">\r\n    <path d=\"M 34.240625 17.798438 \r\nL 369.040625 17.798438 \r\n\" style=\"fill:none;stroke:#000000;stroke-linecap:square;stroke-linejoin:miter;stroke-width:0.8;\"/>\r\n   </g>\r\n  </g>\r\n </g>\r\n <defs>\r\n  <clipPath id=\"p1615790bdc\">\r\n   <rect height=\"217.44\" width=\"334.8\" x=\"34.240625\" y=\"17.798438\"/>\r\n  </clipPath>\r\n </defs>\r\n</svg>\r\n",
      "image/png": "[encoded data removed]"
     },
     "metadata": {
      "needs_background": "light"
     }
    }
   ],
   "source": [
    "plt.bar(months,sales_results['sales'])\n",
    "plt.xticks(months)\n",
    "plt.xlabel('Months')\n",
    "plt.ylabel('Sales in USD')\n",
    "plt.show"
   ]
  },
  {
   "cell_type": "code",
   "execution_count": 168,
   "metadata": {},
   "outputs": [
    {
     "output_type": "error",
     "ename": "IndexError",
     "evalue": "list index out of range",
     "traceback": [
      "\u001b[1;31m---------------------------------------------------------------------------\u001b[0m",
      "\u001b[1;31mIndexError\u001b[0m                                Traceback (most recent call last)",
      "\u001b[1;32m<ipython-input-168-ab16bb2c22a3>\u001b[0m in \u001b[0;36m<module>\u001b[1;34m\u001b[0m\n\u001b[0;32m      7\u001b[0m     \u001b[1;32mreturn\u001b[0m \u001b[0maddress\u001b[0m\u001b[1;33m.\u001b[0m\u001b[0msplit\u001b[0m\u001b[1;33m(\u001b[0m\u001b[1;34m','\u001b[0m\u001b[1;33m)\u001b[0m\u001b[1;33m[\u001b[0m\u001b[1;36m2\u001b[0m\u001b[1;33m]\u001b[0m\u001b[1;33m\u001b[0m\u001b[1;33m\u001b[0m\u001b[0m\n\u001b[0;32m      8\u001b[0m \u001b[1;33m\u001b[0m\u001b[0m\n\u001b[1;32m----> 9\u001b[1;33m \u001b[0mall_data\u001b[0m\u001b[1;33m[\u001b[0m\u001b[1;34m'City'\u001b[0m\u001b[1;33m]\u001b[0m \u001b[1;33m=\u001b[0m \u001b[0mall_data\u001b[0m\u001b[1;33m[\u001b[0m\u001b[1;34m'Purchase Address'\u001b[0m\u001b[1;33m]\u001b[0m\u001b[1;33m.\u001b[0m\u001b[0mapply\u001b[0m\u001b[1;33m(\u001b[0m\u001b[1;32mlambda\u001b[0m \u001b[0mx\u001b[0m\u001b[1;33m:\u001b[0m \u001b[0mget_city\u001b[0m\u001b[1;33m(\u001b[0m\u001b[0mx\u001b[0m\u001b[1;33m)\u001b[0m \u001b[1;33m+\u001b[0m \u001b[1;34m' '\u001b[0m \u001b[1;33m+\u001b[0m \u001b[0mget_state\u001b[0m\u001b[1;33m(\u001b[0m\u001b[0mx\u001b[0m\u001b[1;33m)\u001b[0m\u001b[1;33m)\u001b[0m\u001b[1;33m\u001b[0m\u001b[1;33m\u001b[0m\u001b[0m\n\u001b[0m\u001b[0;32m     10\u001b[0m \u001b[1;31m#all_data.head()\u001b[0m\u001b[1;33m\u001b[0m\u001b[1;33m\u001b[0m\u001b[1;33m\u001b[0m\u001b[0m\n",
      "\u001b[1;32m~\\anaconda3\\lib\\site-packages\\pandas\\core\\series.py\u001b[0m in \u001b[0;36mapply\u001b[1;34m(self, func, convert_dtype, args, **kwds)\u001b[0m\n\u001b[0;32m   4198\u001b[0m             \u001b[1;32melse\u001b[0m\u001b[1;33m:\u001b[0m\u001b[1;33m\u001b[0m\u001b[1;33m\u001b[0m\u001b[0m\n\u001b[0;32m   4199\u001b[0m                 \u001b[0mvalues\u001b[0m \u001b[1;33m=\u001b[0m \u001b[0mself\u001b[0m\u001b[1;33m.\u001b[0m\u001b[0mastype\u001b[0m\u001b[1;33m(\u001b[0m\u001b[0mobject\u001b[0m\u001b[1;33m)\u001b[0m\u001b[1;33m.\u001b[0m\u001b[0m_values\u001b[0m\u001b[1;33m\u001b[0m\u001b[1;33m\u001b[0m\u001b[0m\n\u001b[1;32m-> 4200\u001b[1;33m                 \u001b[0mmapped\u001b[0m \u001b[1;33m=\u001b[0m \u001b[0mlib\u001b[0m\u001b[1;33m.\u001b[0m\u001b[0mmap_infer\u001b[0m\u001b[1;33m(\u001b[0m\u001b[0mvalues\u001b[0m\u001b[1;33m,\u001b[0m \u001b[0mf\u001b[0m\u001b[1;33m,\u001b[0m \u001b[0mconvert\u001b[0m\u001b[1;33m=\u001b[0m\u001b[0mconvert_dtype\u001b[0m\u001b[1;33m)\u001b[0m\u001b[1;33m\u001b[0m\u001b[1;33m\u001b[0m\u001b[0m\n\u001b[0m\u001b[0;32m   4201\u001b[0m \u001b[1;33m\u001b[0m\u001b[0m\n\u001b[0;32m   4202\u001b[0m         \u001b[1;32mif\u001b[0m \u001b[0mlen\u001b[0m\u001b[1;33m(\u001b[0m\u001b[0mmapped\u001b[0m\u001b[1;33m)\u001b[0m \u001b[1;32mand\u001b[0m \u001b[0misinstance\u001b[0m\u001b[1;33m(\u001b[0m\u001b[0mmapped\u001b[0m\u001b[1;33m[\u001b[0m\u001b[1;36m0\u001b[0m\u001b[1;33m]\u001b[0m\u001b[1;33m,\u001b[0m \u001b[0mSeries\u001b[0m\u001b[1;33m)\u001b[0m\u001b[1;33m:\u001b[0m\u001b[1;33m\u001b[0m\u001b[1;33m\u001b[0m\u001b[0m\n",
      "\u001b[1;32mpandas\\_libs\\lib.pyx\u001b[0m in \u001b[0;36mpandas._libs.lib.map_infer\u001b[1;34m()\u001b[0m\n",
      "\u001b[1;32m<ipython-input-168-ab16bb2c22a3>\u001b[0m in \u001b[0;36m<lambda>\u001b[1;34m(x)\u001b[0m\n\u001b[0;32m      7\u001b[0m     \u001b[1;32mreturn\u001b[0m \u001b[0maddress\u001b[0m\u001b[1;33m.\u001b[0m\u001b[0msplit\u001b[0m\u001b[1;33m(\u001b[0m\u001b[1;34m','\u001b[0m\u001b[1;33m)\u001b[0m\u001b[1;33m[\u001b[0m\u001b[1;36m2\u001b[0m\u001b[1;33m]\u001b[0m\u001b[1;33m\u001b[0m\u001b[1;33m\u001b[0m\u001b[0m\n\u001b[0;32m      8\u001b[0m \u001b[1;33m\u001b[0m\u001b[0m\n\u001b[1;32m----> 9\u001b[1;33m \u001b[0mall_data\u001b[0m\u001b[1;33m[\u001b[0m\u001b[1;34m'City'\u001b[0m\u001b[1;33m]\u001b[0m \u001b[1;33m=\u001b[0m \u001b[0mall_data\u001b[0m\u001b[1;33m[\u001b[0m\u001b[1;34m'Purchase Address'\u001b[0m\u001b[1;33m]\u001b[0m\u001b[1;33m.\u001b[0m\u001b[0mapply\u001b[0m\u001b[1;33m(\u001b[0m\u001b[1;32mlambda\u001b[0m \u001b[0mx\u001b[0m\u001b[1;33m:\u001b[0m \u001b[0mget_city\u001b[0m\u001b[1;33m(\u001b[0m\u001b[0mx\u001b[0m\u001b[1;33m)\u001b[0m \u001b[1;33m+\u001b[0m \u001b[1;34m' '\u001b[0m \u001b[1;33m+\u001b[0m \u001b[0mget_state\u001b[0m\u001b[1;33m(\u001b[0m\u001b[0mx\u001b[0m\u001b[1;33m)\u001b[0m\u001b[1;33m)\u001b[0m\u001b[1;33m\u001b[0m\u001b[1;33m\u001b[0m\u001b[0m\n\u001b[0m\u001b[0;32m     10\u001b[0m \u001b[1;31m#all_data.head()\u001b[0m\u001b[1;33m\u001b[0m\u001b[1;33m\u001b[0m\u001b[1;33m\u001b[0m\u001b[0m\n",
      "\u001b[1;32m<ipython-input-168-ab16bb2c22a3>\u001b[0m in \u001b[0;36mget_city\u001b[1;34m(address)\u001b[0m\n\u001b[0;32m      2\u001b[0m \u001b[1;31m# it looks like we dont have city coloumn so from the purchase address data we can add a city coloumn\u001b[0m\u001b[1;33m\u001b[0m\u001b[1;33m\u001b[0m\u001b[1;33m\u001b[0m\u001b[0m\n\u001b[0;32m      3\u001b[0m \u001b[1;32mdef\u001b[0m \u001b[0mget_city\u001b[0m\u001b[1;33m(\u001b[0m\u001b[0maddress\u001b[0m\u001b[1;33m)\u001b[0m\u001b[1;33m:\u001b[0m\u001b[1;33m\u001b[0m\u001b[1;33m\u001b[0m\u001b[0m\n\u001b[1;32m----> 4\u001b[1;33m     \u001b[1;32mreturn\u001b[0m \u001b[0maddress\u001b[0m\u001b[1;33m.\u001b[0m\u001b[0msplit\u001b[0m\u001b[1;33m(\u001b[0m\u001b[1;34m','\u001b[0m\u001b[1;33m)\u001b[0m\u001b[1;33m[\u001b[0m\u001b[1;36m1\u001b[0m\u001b[1;33m]\u001b[0m\u001b[1;33m\u001b[0m\u001b[1;33m\u001b[0m\u001b[0m\n\u001b[0m\u001b[0;32m      5\u001b[0m \u001b[1;33m\u001b[0m\u001b[0m\n\u001b[0;32m      6\u001b[0m \u001b[1;32mdef\u001b[0m \u001b[0mget_state\u001b[0m\u001b[1;33m(\u001b[0m\u001b[0maddress\u001b[0m\u001b[1;33m)\u001b[0m\u001b[1;33m:\u001b[0m\u001b[1;33m\u001b[0m\u001b[1;33m\u001b[0m\u001b[0m\n",
      "\u001b[1;31mIndexError\u001b[0m: list index out of range"
     ]
    }
   ],
   "source": [
    "#Question 2: What city sold the most product?\n",
    "# it looks like we dont have city coloumn so from the purchase address data we can add a city coloumn\n",
    "def get_city(address):\n",
    "    return address.split(',')[1]\n",
    "\n",
    "def get_state(address):\n",
    "    return address.split(',')[2]\n",
    "\n",
    "all_data['City'] = all_data['Purchase Address'].apply(lambda x: get_city(x) + ' ' + get_state(x))\n",
    "#all_data.head()"
   ]
  },
  {
   "cell_type": "code",
   "execution_count": 157,
   "metadata": {},
   "outputs": [],
   "source": [
    "# lets use apply method\n",
    "#all_data['coloumn'] = all_data['Purchase Address'].str.split(',').apply(lambda x:x[1])\n",
    "#all_data['City'] = all_data['Purchase Address'].str.split(',').str[1]"
   ]
  },
  {
   "cell_type": "code",
   "execution_count": 158,
   "metadata": {},
   "outputs": [
    {
     "output_type": "execute_result",
     "data": {
      "text/plain": [
       "       Order ID                   Product Quantity Ordered Price Each  \\\n",
       "0        194095          Wired Headphones                1      11.99   \n",
       "1        194096     AA Batteries (4-pack)                1       3.84   \n",
       "2        194097          27in FHD Monitor                1     149.99   \n",
       "3        194098          Wired Headphones                1      11.99   \n",
       "4        194099    AAA Batteries (4-pack)                2       2.99   \n",
       "...         ...                       ...              ...        ...   \n",
       "186845   194090              Google Phone                1        600   \n",
       "186846   194091     AA Batteries (4-pack)                1       3.84   \n",
       "186847   194092    AAA Batteries (4-pack)                2       2.99   \n",
       "186848   194093     AA Batteries (4-pack)                1       3.84   \n",
       "186849   194094  Lightning Charging Cable                1      14.95   \n",
       "\n",
       "            Order Date                         Purchase Address Month  \\\n",
       "0       05/16/19 17:14      669 2nd St, New York City, NY 10001    05   \n",
       "1       05/19/19 14:43          844 Walnut St, Dallas, TX 75001    05   \n",
       "2       05/24/19 11:36  164 Madison St, New York City, NY 10001    05   \n",
       "3       05/02/19 20:40          622 Meadow St, Dallas, TX 75001    05   \n",
       "4       05/11/19 22:55          17 Church St, Seattle, WA 98101    05   \n",
       "...                ...                                      ...   ...   \n",
       "186845  04/08/19 17:11    177 Jackson St, Los Angeles, CA 90001    04   \n",
       "186846  04/15/19 16:02          311 Forest St, Austin, TX 73301    04   \n",
       "186847  04/28/19 14:36   347 Sunset St, San Francisco, CA 94016    04   \n",
       "186848  04/14/19 15:09          835 Lake St, Portland, OR 97035    04   \n",
       "186849  04/18/19 11:08           354 North St, Boston, MA 02215    04   \n",
       "\n",
       "                  City  \n",
       "0        New York City  \n",
       "1               Dallas  \n",
       "2        New York City  \n",
       "3               Dallas  \n",
       "4              Seattle  \n",
       "...                ...  \n",
       "186845     Los Angeles  \n",
       "186846          Austin  \n",
       "186847   San Francisco  \n",
       "186848        Portland  \n",
       "186849          Boston  \n",
       "\n",
       "[186305 rows x 8 columns]"
      ],
      "text/html": "<div>\n<style scoped>\n    .dataframe tbody tr th:only-of-type {\n        vertical-align: middle;\n    }\n\n    .dataframe tbody tr th {\n        vertical-align: top;\n    }\n\n    .dataframe thead th {\n        text-align: right;\n    }\n</style>\n<table border=\"1\" class=\"dataframe\">\n  <thead>\n    <tr style=\"text-align: right;\">\n      <th></th>\n      <th>Order ID</th>\n      <th>Product</th>\n      <th>Quantity Ordered</th>\n      <th>Price Each</th>\n      <th>Order Date</th>\n      <th>Purchase Address</th>\n      <th>Month</th>\n      <th>City</th>\n    </tr>\n  </thead>\n  <tbody>\n    <tr>\n      <th>0</th>\n      <td>194095</td>\n      <td>Wired Headphones</td>\n      <td>1</td>\n      <td>11.99</td>\n      <td>05/16/19 17:14</td>\n      <td>669 2nd St, New York City, NY 10001</td>\n      <td>05</td>\n      <td>New York City</td>\n    </tr>\n    <tr>\n      <th>1</th>\n      <td>194096</td>\n      <td>AA Batteries (4-pack)</td>\n      <td>1</td>\n      <td>3.84</td>\n      <td>05/19/19 14:43</td>\n      <td>844 Walnut St, Dallas, TX 75001</td>\n      <td>05</td>\n      <td>Dallas</td>\n    </tr>\n    <tr>\n      <th>2</th>\n      <td>194097</td>\n      <td>27in FHD Monitor</td>\n      <td>1</td>\n      <td>149.99</td>\n      <td>05/24/19 11:36</td>\n      <td>164 Madison St, New York City, NY 10001</td>\n      <td>05</td>\n      <td>New York City</td>\n    </tr>\n    <tr>\n      <th>3</th>\n      <td>194098</td>\n      <td>Wired Headphones</td>\n      <td>1</td>\n      <td>11.99</td>\n      <td>05/02/19 20:40</td>\n      <td>622 Meadow St, Dallas, TX 75001</td>\n      <td>05</td>\n      <td>Dallas</td>\n    </tr>\n    <tr>\n      <th>4</th>\n      <td>194099</td>\n      <td>AAA Batteries (4-pack)</td>\n      <td>2</td>\n      <td>2.99</td>\n      <td>05/11/19 22:55</td>\n      <td>17 Church St, Seattle, WA 98101</td>\n      <td>05</td>\n      <td>Seattle</td>\n    </tr>\n    <tr>\n      <th>...</th>\n      <td>...</td>\n      <td>...</td>\n      <td>...</td>\n      <td>...</td>\n      <td>...</td>\n      <td>...</td>\n      <td>...</td>\n      <td>...</td>\n    </tr>\n    <tr>\n      <th>186845</th>\n      <td>194090</td>\n      <td>Google Phone</td>\n      <td>1</td>\n      <td>600</td>\n      <td>04/08/19 17:11</td>\n      <td>177 Jackson St, Los Angeles, CA 90001</td>\n      <td>04</td>\n      <td>Los Angeles</td>\n    </tr>\n    <tr>\n      <th>186846</th>\n      <td>194091</td>\n      <td>AA Batteries (4-pack)</td>\n      <td>1</td>\n      <td>3.84</td>\n      <td>04/15/19 16:02</td>\n      <td>311 Forest St, Austin, TX 73301</td>\n      <td>04</td>\n      <td>Austin</td>\n    </tr>\n    <tr>\n      <th>186847</th>\n      <td>194092</td>\n      <td>AAA Batteries (4-pack)</td>\n      <td>2</td>\n      <td>2.99</td>\n      <td>04/28/19 14:36</td>\n      <td>347 Sunset St, San Francisco, CA 94016</td>\n      <td>04</td>\n      <td>San Francisco</td>\n    </tr>\n    <tr>\n      <th>186848</th>\n      <td>194093</td>\n      <td>AA Batteries (4-pack)</td>\n      <td>1</td>\n      <td>3.84</td>\n      <td>04/14/19 15:09</td>\n      <td>835 Lake St, Portland, OR 97035</td>\n      <td>04</td>\n      <td>Portland</td>\n    </tr>\n    <tr>\n      <th>186849</th>\n      <td>194094</td>\n      <td>Lightning Charging Cable</td>\n      <td>1</td>\n      <td>14.95</td>\n      <td>04/18/19 11:08</td>\n      <td>354 North St, Boston, MA 02215</td>\n      <td>04</td>\n      <td>Boston</td>\n    </tr>\n  </tbody>\n</table>\n<p>186305 rows × 8 columns</p>\n</div>"
     },
     "metadata": {},
     "execution_count": 158
    }
   ],
   "source": [
    "all_data"
   ]
  },
  {
   "cell_type": "code",
   "execution_count": null,
   "metadata": {},
   "outputs": [],
   "source": []
  }
 ]
}