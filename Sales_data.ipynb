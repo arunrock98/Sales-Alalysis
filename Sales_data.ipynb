{
 "metadata": {
  "language_info": {
   "codemirror_mode": {
    "name": "ipython",
    "version": 3
   },
   "file_extension": ".py",
   "mimetype": "text/x-python",
   "name": "python",
   "nbconvert_exporter": "python",
   "pygments_lexer": "ipython3",
   "version": "3.8.5-final"
  },
  "orig_nbformat": 2,
  "kernelspec": {
   "name": "python3",
   "display_name": "Python 3",
   "language": "python"
  }
 },
 "nbformat": 4,
 "nbformat_minor": 2,
 "cells": [
  {
   "cell_type": "code",
   "execution_count": 11,
   "metadata": {},
   "outputs": [],
   "source": [
    "import pandas as pd\n",
    "import matplotlib.pyplot as plt\n",
    "import os\n",
    "\n",
    "# how to import mulitiple files or datasets directly\n",
    "# reference: https://stackoverflow.com/questions/3207219/how-do-i-list-all-files-of-a-directory\n",
    "\n",
    "df = pd.read_csv('./datasets/Sales_April_2019.csv')\n",
    "#files = [file for file in os.listdir('./datasets')]\n",
    "\n",
    "#all_months_data = pd.DataFrame()\n",
    "#for file in files:\n",
    "    #df = pd.read_csv('./datasets/'+ file)\n",
    "    #all_months_data = pd.concat([all_months_data, df]\n",
    "    \n",
    "df1 = pd.read_csv('./datasets/Sales_May_2019.csv')\n",
    "df2 = pd.read_csv('./datasets/Sales_June_2019.csv')\n",
    "df3 = pd.read_csv('./datasets/Sales_July_2019.csv')\n",
    "df4 = pd.read_csv('./datasets/Sales_August_2019.csv')\n",
    "df5 = pd.read_csv('./datasets/Sales_September_2019.csv')\n",
    "df6 = pd.read_csv('./datasets/Sales_October_2019.csv')\n",
    "df7 = pd.read_csv('./datasets/Sales_November_2019.csv')\n",
    "df8 = pd.read_csv('./datasets/Sales_December_2019.csv')\n",
    "df9 = pd.read_csv('./datasets/Sales_January_2019.csv')\n",
    "df10 = pd.read_csv('./datasets/Sales_February_2019.csv')\n",
    "df11 = pd.read_csv('./datasets/Sales_March_2019.csv')"
   ]
  },
  {
   "cell_type": "code",
   "execution_count": 12,
   "metadata": {},
   "outputs": [],
   "source": [
    " all_months_data = pd.concat([df1,df2,df3,df4,df5,df6,df7,df8,df9,df10,df11,df])"
   ]
  },
  {
   "cell_type": "code",
   "execution_count": 13,
   "metadata": {},
   "outputs": [],
   "source": [
    "all_months_data.to_csv('all_data.csv',index=False)"
   ]
  },
  {
   "cell_type": "code",
   "execution_count": 14,
   "metadata": {},
   "outputs": [
    {
     "output_type": "execute_result",
     "data": {
      "text/plain": [
       "       Order ID                   Product Quantity Ordered Price Each  \\\n",
       "0        194095          Wired Headphones                1      11.99   \n",
       "1        194096     AA Batteries (4-pack)                1       3.84   \n",
       "2        194097          27in FHD Monitor                1     149.99   \n",
       "3        194098          Wired Headphones                1      11.99   \n",
       "4        194099    AAA Batteries (4-pack)                2       2.99   \n",
       "...         ...                       ...              ...        ...   \n",
       "186845   194090              Google Phone                1        600   \n",
       "186846   194091     AA Batteries (4-pack)                1       3.84   \n",
       "186847   194092    AAA Batteries (4-pack)                2       2.99   \n",
       "186848   194093     AA Batteries (4-pack)                1       3.84   \n",
       "186849   194094  Lightning Charging Cable                1      14.95   \n",
       "\n",
       "            Order Date                         Purchase Address  \n",
       "0       05/16/19 17:14      669 2nd St, New York City, NY 10001  \n",
       "1       05/19/19 14:43          844 Walnut St, Dallas, TX 75001  \n",
       "2       05/24/19 11:36  164 Madison St, New York City, NY 10001  \n",
       "3       05/02/19 20:40          622 Meadow St, Dallas, TX 75001  \n",
       "4       05/11/19 22:55          17 Church St, Seattle, WA 98101  \n",
       "...                ...                                      ...  \n",
       "186845  04/08/19 17:11    177 Jackson St, Los Angeles, CA 90001  \n",
       "186846  04/15/19 16:02          311 Forest St, Austin, TX 73301  \n",
       "186847  04/28/19 14:36   347 Sunset St, San Francisco, CA 94016  \n",
       "186848  04/14/19 15:09          835 Lake St, Portland, OR 97035  \n",
       "186849  04/18/19 11:08           354 North St, Boston, MA 02215  \n",
       "\n",
       "[186850 rows x 6 columns]"
      ],
      "text/html": "<div>\n<style scoped>\n    .dataframe tbody tr th:only-of-type {\n        vertical-align: middle;\n    }\n\n    .dataframe tbody tr th {\n        vertical-align: top;\n    }\n\n    .dataframe thead th {\n        text-align: right;\n    }\n</style>\n<table border=\"1\" class=\"dataframe\">\n  <thead>\n    <tr style=\"text-align: right;\">\n      <th></th>\n      <th>Order ID</th>\n      <th>Product</th>\n      <th>Quantity Ordered</th>\n      <th>Price Each</th>\n      <th>Order Date</th>\n      <th>Purchase Address</th>\n    </tr>\n  </thead>\n  <tbody>\n    <tr>\n      <th>0</th>\n      <td>194095</td>\n      <td>Wired Headphones</td>\n      <td>1</td>\n      <td>11.99</td>\n      <td>05/16/19 17:14</td>\n      <td>669 2nd St, New York City, NY 10001</td>\n    </tr>\n    <tr>\n      <th>1</th>\n      <td>194096</td>\n      <td>AA Batteries (4-pack)</td>\n      <td>1</td>\n      <td>3.84</td>\n      <td>05/19/19 14:43</td>\n      <td>844 Walnut St, Dallas, TX 75001</td>\n    </tr>\n    <tr>\n      <th>2</th>\n      <td>194097</td>\n      <td>27in FHD Monitor</td>\n      <td>1</td>\n      <td>149.99</td>\n      <td>05/24/19 11:36</td>\n      <td>164 Madison St, New York City, NY 10001</td>\n    </tr>\n    <tr>\n      <th>3</th>\n      <td>194098</td>\n      <td>Wired Headphones</td>\n      <td>1</td>\n      <td>11.99</td>\n      <td>05/02/19 20:40</td>\n      <td>622 Meadow St, Dallas, TX 75001</td>\n    </tr>\n    <tr>\n      <th>4</th>\n      <td>194099</td>\n      <td>AAA Batteries (4-pack)</td>\n      <td>2</td>\n      <td>2.99</td>\n      <td>05/11/19 22:55</td>\n      <td>17 Church St, Seattle, WA 98101</td>\n    </tr>\n    <tr>\n      <th>...</th>\n      <td>...</td>\n      <td>...</td>\n      <td>...</td>\n      <td>...</td>\n      <td>...</td>\n      <td>...</td>\n    </tr>\n    <tr>\n      <th>186845</th>\n      <td>194090</td>\n      <td>Google Phone</td>\n      <td>1</td>\n      <td>600</td>\n      <td>04/08/19 17:11</td>\n      <td>177 Jackson St, Los Angeles, CA 90001</td>\n    </tr>\n    <tr>\n      <th>186846</th>\n      <td>194091</td>\n      <td>AA Batteries (4-pack)</td>\n      <td>1</td>\n      <td>3.84</td>\n      <td>04/15/19 16:02</td>\n      <td>311 Forest St, Austin, TX 73301</td>\n    </tr>\n    <tr>\n      <th>186847</th>\n      <td>194092</td>\n      <td>AAA Batteries (4-pack)</td>\n      <td>2</td>\n      <td>2.99</td>\n      <td>04/28/19 14:36</td>\n      <td>347 Sunset St, San Francisco, CA 94016</td>\n    </tr>\n    <tr>\n      <th>186848</th>\n      <td>194093</td>\n      <td>AA Batteries (4-pack)</td>\n      <td>1</td>\n      <td>3.84</td>\n      <td>04/14/19 15:09</td>\n      <td>835 Lake St, Portland, OR 97035</td>\n    </tr>\n    <tr>\n      <th>186849</th>\n      <td>194094</td>\n      <td>Lightning Charging Cable</td>\n      <td>1</td>\n      <td>14.95</td>\n      <td>04/18/19 11:08</td>\n      <td>354 North St, Boston, MA 02215</td>\n    </tr>\n  </tbody>\n</table>\n<p>186850 rows × 6 columns</p>\n</div>"
     },
     "metadata": {},
     "execution_count": 14
    }
   ],
   "source": [
    "all_data = pd.read_csv('all_data.csv')\n",
    "all_data"
   ]
  },
  {
   "cell_type": "code",
   "execution_count": 15,
   "metadata": {},
   "outputs": [
    {
     "output_type": "execute_result",
     "data": {
      "text/plain": [
       "       Order ID                   Product Quantity Ordered Price Each  \\\n",
       "0        194095          Wired Headphones                1      11.99   \n",
       "1        194096     AA Batteries (4-pack)                1       3.84   \n",
       "2        194097          27in FHD Monitor                1     149.99   \n",
       "3        194098          Wired Headphones                1      11.99   \n",
       "4        194099    AAA Batteries (4-pack)                2       2.99   \n",
       "...         ...                       ...              ...        ...   \n",
       "186845   194090              Google Phone                1        600   \n",
       "186846   194091     AA Batteries (4-pack)                1       3.84   \n",
       "186847   194092    AAA Batteries (4-pack)                2       2.99   \n",
       "186848   194093     AA Batteries (4-pack)                1       3.84   \n",
       "186849   194094  Lightning Charging Cable                1      14.95   \n",
       "\n",
       "            Order Date                         Purchase Address Month  \n",
       "0       05/16/19 17:14      669 2nd St, New York City, NY 10001    05  \n",
       "1       05/19/19 14:43          844 Walnut St, Dallas, TX 75001    05  \n",
       "2       05/24/19 11:36  164 Madison St, New York City, NY 10001    05  \n",
       "3       05/02/19 20:40          622 Meadow St, Dallas, TX 75001    05  \n",
       "4       05/11/19 22:55          17 Church St, Seattle, WA 98101    05  \n",
       "...                ...                                      ...   ...  \n",
       "186845  04/08/19 17:11    177 Jackson St, Los Angeles, CA 90001    04  \n",
       "186846  04/15/19 16:02          311 Forest St, Austin, TX 73301    04  \n",
       "186847  04/28/19 14:36   347 Sunset St, San Francisco, CA 94016    04  \n",
       "186848  04/14/19 15:09          835 Lake St, Portland, OR 97035    04  \n",
       "186849  04/18/19 11:08           354 North St, Boston, MA 02215    04  \n",
       "\n",
       "[186850 rows x 7 columns]"
      ],
      "text/html": "<div>\n<style scoped>\n    .dataframe tbody tr th:only-of-type {\n        vertical-align: middle;\n    }\n\n    .dataframe tbody tr th {\n        vertical-align: top;\n    }\n\n    .dataframe thead th {\n        text-align: right;\n    }\n</style>\n<table border=\"1\" class=\"dataframe\">\n  <thead>\n    <tr style=\"text-align: right;\">\n      <th></th>\n      <th>Order ID</th>\n      <th>Product</th>\n      <th>Quantity Ordered</th>\n      <th>Price Each</th>\n      <th>Order Date</th>\n      <th>Purchase Address</th>\n      <th>Month</th>\n    </tr>\n  </thead>\n  <tbody>\n    <tr>\n      <th>0</th>\n      <td>194095</td>\n      <td>Wired Headphones</td>\n      <td>1</td>\n      <td>11.99</td>\n      <td>05/16/19 17:14</td>\n      <td>669 2nd St, New York City, NY 10001</td>\n      <td>05</td>\n    </tr>\n    <tr>\n      <th>1</th>\n      <td>194096</td>\n      <td>AA Batteries (4-pack)</td>\n      <td>1</td>\n      <td>3.84</td>\n      <td>05/19/19 14:43</td>\n      <td>844 Walnut St, Dallas, TX 75001</td>\n      <td>05</td>\n    </tr>\n    <tr>\n      <th>2</th>\n      <td>194097</td>\n      <td>27in FHD Monitor</td>\n      <td>1</td>\n      <td>149.99</td>\n      <td>05/24/19 11:36</td>\n      <td>164 Madison St, New York City, NY 10001</td>\n      <td>05</td>\n    </tr>\n    <tr>\n      <th>3</th>\n      <td>194098</td>\n      <td>Wired Headphones</td>\n      <td>1</td>\n      <td>11.99</td>\n      <td>05/02/19 20:40</td>\n      <td>622 Meadow St, Dallas, TX 75001</td>\n      <td>05</td>\n    </tr>\n    <tr>\n      <th>4</th>\n      <td>194099</td>\n      <td>AAA Batteries (4-pack)</td>\n      <td>2</td>\n      <td>2.99</td>\n      <td>05/11/19 22:55</td>\n      <td>17 Church St, Seattle, WA 98101</td>\n      <td>05</td>\n    </tr>\n    <tr>\n      <th>...</th>\n      <td>...</td>\n      <td>...</td>\n      <td>...</td>\n      <td>...</td>\n      <td>...</td>\n      <td>...</td>\n      <td>...</td>\n    </tr>\n    <tr>\n      <th>186845</th>\n      <td>194090</td>\n      <td>Google Phone</td>\n      <td>1</td>\n      <td>600</td>\n      <td>04/08/19 17:11</td>\n      <td>177 Jackson St, Los Angeles, CA 90001</td>\n      <td>04</td>\n    </tr>\n    <tr>\n      <th>186846</th>\n      <td>194091</td>\n      <td>AA Batteries (4-pack)</td>\n      <td>1</td>\n      <td>3.84</td>\n      <td>04/15/19 16:02</td>\n      <td>311 Forest St, Austin, TX 73301</td>\n      <td>04</td>\n    </tr>\n    <tr>\n      <th>186847</th>\n      <td>194092</td>\n      <td>AAA Batteries (4-pack)</td>\n      <td>2</td>\n      <td>2.99</td>\n      <td>04/28/19 14:36</td>\n      <td>347 Sunset St, San Francisco, CA 94016</td>\n      <td>04</td>\n    </tr>\n    <tr>\n      <th>186848</th>\n      <td>194093</td>\n      <td>AA Batteries (4-pack)</td>\n      <td>1</td>\n      <td>3.84</td>\n      <td>04/14/19 15:09</td>\n      <td>835 Lake St, Portland, OR 97035</td>\n      <td>04</td>\n    </tr>\n    <tr>\n      <th>186849</th>\n      <td>194094</td>\n      <td>Lightning Charging Cable</td>\n      <td>1</td>\n      <td>14.95</td>\n      <td>04/18/19 11:08</td>\n      <td>354 North St, Boston, MA 02215</td>\n      <td>04</td>\n    </tr>\n  </tbody>\n</table>\n<p>186850 rows × 7 columns</p>\n</div>"
     },
     "metadata": {},
     "execution_count": 15
    }
   ],
   "source": [
    "# add coloumn called month\n",
    "all_data['Month'] = all_data['Order Date'].str[0:2]\n",
    "#all_data['Month'] = all_data.astype('int=64')\n",
    "all_data"
   ]
  },
  {
   "cell_type": "code",
   "execution_count": 16,
   "metadata": {},
   "outputs": [
    {
     "output_type": "execute_result",
     "data": {
      "text/plain": [
       "        Order ID               Product Quantity Ordered Price Each  \\\n",
       "count     186305                186305           186305     186305   \n",
       "unique    178438                    20               10         24   \n",
       "top     Order ID  USB-C Charging Cable                1      11.95   \n",
       "freq         355                 21903           168552      21903   \n",
       "\n",
       "        Order Date  Purchase Address   Month  \n",
       "count       186305            186305  186305  \n",
       "unique      142396            140788      13  \n",
       "top     Order Date  Purchase Address      12  \n",
       "freq           355               355   24984  "
      ],
      "text/html": "<div>\n<style scoped>\n    .dataframe tbody tr th:only-of-type {\n        vertical-align: middle;\n    }\n\n    .dataframe tbody tr th {\n        vertical-align: top;\n    }\n\n    .dataframe thead th {\n        text-align: right;\n    }\n</style>\n<table border=\"1\" class=\"dataframe\">\n  <thead>\n    <tr style=\"text-align: right;\">\n      <th></th>\n      <th>Order ID</th>\n      <th>Product</th>\n      <th>Quantity Ordered</th>\n      <th>Price Each</th>\n      <th>Order Date</th>\n      <th>Purchase Address</th>\n      <th>Month</th>\n    </tr>\n  </thead>\n  <tbody>\n    <tr>\n      <th>count</th>\n      <td>186305</td>\n      <td>186305</td>\n      <td>186305</td>\n      <td>186305</td>\n      <td>186305</td>\n      <td>186305</td>\n      <td>186305</td>\n    </tr>\n    <tr>\n      <th>unique</th>\n      <td>178438</td>\n      <td>20</td>\n      <td>10</td>\n      <td>24</td>\n      <td>142396</td>\n      <td>140788</td>\n      <td>13</td>\n    </tr>\n    <tr>\n      <th>top</th>\n      <td>Order ID</td>\n      <td>USB-C Charging Cable</td>\n      <td>1</td>\n      <td>11.95</td>\n      <td>Order Date</td>\n      <td>Purchase Address</td>\n      <td>12</td>\n    </tr>\n    <tr>\n      <th>freq</th>\n      <td>355</td>\n      <td>21903</td>\n      <td>168552</td>\n      <td>21903</td>\n      <td>355</td>\n      <td>355</td>\n      <td>24984</td>\n    </tr>\n  </tbody>\n</table>\n</div>"
     },
     "metadata": {},
     "execution_count": 16
    }
   ],
   "source": [
    "## Data Cleaning\n",
    "all_data.describe()"
   ]
  },
  {
   "cell_type": "code",
   "execution_count": 17,
   "metadata": {},
   "outputs": [
    {
     "output_type": "execute_result",
     "data": {
      "text/plain": [
       "       Order ID                   Product Quantity Ordered Price Each  \\\n",
       "0        194095          Wired Headphones                1      11.99   \n",
       "1        194096     AA Batteries (4-pack)                1       3.84   \n",
       "2        194097          27in FHD Monitor                1     149.99   \n",
       "3        194098          Wired Headphones                1      11.99   \n",
       "4        194099    AAA Batteries (4-pack)                2       2.99   \n",
       "...         ...                       ...              ...        ...   \n",
       "186845   194090              Google Phone                1        600   \n",
       "186846   194091     AA Batteries (4-pack)                1       3.84   \n",
       "186847   194092    AAA Batteries (4-pack)                2       2.99   \n",
       "186848   194093     AA Batteries (4-pack)                1       3.84   \n",
       "186849   194094  Lightning Charging Cable                1      14.95   \n",
       "\n",
       "            Order Date                         Purchase Address Month  \n",
       "0       05/16/19 17:14      669 2nd St, New York City, NY 10001    05  \n",
       "1       05/19/19 14:43          844 Walnut St, Dallas, TX 75001    05  \n",
       "2       05/24/19 11:36  164 Madison St, New York City, NY 10001    05  \n",
       "3       05/02/19 20:40          622 Meadow St, Dallas, TX 75001    05  \n",
       "4       05/11/19 22:55          17 Church St, Seattle, WA 98101    05  \n",
       "...                ...                                      ...   ...  \n",
       "186845  04/08/19 17:11    177 Jackson St, Los Angeles, CA 90001    04  \n",
       "186846  04/15/19 16:02          311 Forest St, Austin, TX 73301    04  \n",
       "186847  04/28/19 14:36   347 Sunset St, San Francisco, CA 94016    04  \n",
       "186848  04/14/19 15:09          835 Lake St, Portland, OR 97035    04  \n",
       "186849  04/18/19 11:08           354 North St, Boston, MA 02215    04  \n",
       "\n",
       "[186305 rows x 7 columns]"
      ],
      "text/html": "<div>\n<style scoped>\n    .dataframe tbody tr th:only-of-type {\n        vertical-align: middle;\n    }\n\n    .dataframe tbody tr th {\n        vertical-align: top;\n    }\n\n    .dataframe thead th {\n        text-align: right;\n    }\n</style>\n<table border=\"1\" class=\"dataframe\">\n  <thead>\n    <tr style=\"text-align: right;\">\n      <th></th>\n      <th>Order ID</th>\n      <th>Product</th>\n      <th>Quantity Ordered</th>\n      <th>Price Each</th>\n      <th>Order Date</th>\n      <th>Purchase Address</th>\n      <th>Month</th>\n    </tr>\n  </thead>\n  <tbody>\n    <tr>\n      <th>0</th>\n      <td>194095</td>\n      <td>Wired Headphones</td>\n      <td>1</td>\n      <td>11.99</td>\n      <td>05/16/19 17:14</td>\n      <td>669 2nd St, New York City, NY 10001</td>\n      <td>05</td>\n    </tr>\n    <tr>\n      <th>1</th>\n      <td>194096</td>\n      <td>AA Batteries (4-pack)</td>\n      <td>1</td>\n      <td>3.84</td>\n      <td>05/19/19 14:43</td>\n      <td>844 Walnut St, Dallas, TX 75001</td>\n      <td>05</td>\n    </tr>\n    <tr>\n      <th>2</th>\n      <td>194097</td>\n      <td>27in FHD Monitor</td>\n      <td>1</td>\n      <td>149.99</td>\n      <td>05/24/19 11:36</td>\n      <td>164 Madison St, New York City, NY 10001</td>\n      <td>05</td>\n    </tr>\n    <tr>\n      <th>3</th>\n      <td>194098</td>\n      <td>Wired Headphones</td>\n      <td>1</td>\n      <td>11.99</td>\n      <td>05/02/19 20:40</td>\n      <td>622 Meadow St, Dallas, TX 75001</td>\n      <td>05</td>\n    </tr>\n    <tr>\n      <th>4</th>\n      <td>194099</td>\n      <td>AAA Batteries (4-pack)</td>\n      <td>2</td>\n      <td>2.99</td>\n      <td>05/11/19 22:55</td>\n      <td>17 Church St, Seattle, WA 98101</td>\n      <td>05</td>\n    </tr>\n    <tr>\n      <th>...</th>\n      <td>...</td>\n      <td>...</td>\n      <td>...</td>\n      <td>...</td>\n      <td>...</td>\n      <td>...</td>\n      <td>...</td>\n    </tr>\n    <tr>\n      <th>186845</th>\n      <td>194090</td>\n      <td>Google Phone</td>\n      <td>1</td>\n      <td>600</td>\n      <td>04/08/19 17:11</td>\n      <td>177 Jackson St, Los Angeles, CA 90001</td>\n      <td>04</td>\n    </tr>\n    <tr>\n      <th>186846</th>\n      <td>194091</td>\n      <td>AA Batteries (4-pack)</td>\n      <td>1</td>\n      <td>3.84</td>\n      <td>04/15/19 16:02</td>\n      <td>311 Forest St, Austin, TX 73301</td>\n      <td>04</td>\n    </tr>\n    <tr>\n      <th>186847</th>\n      <td>194092</td>\n      <td>AAA Batteries (4-pack)</td>\n      <td>2</td>\n      <td>2.99</td>\n      <td>04/28/19 14:36</td>\n      <td>347 Sunset St, San Francisco, CA 94016</td>\n      <td>04</td>\n    </tr>\n    <tr>\n      <th>186848</th>\n      <td>194093</td>\n      <td>AA Batteries (4-pack)</td>\n      <td>1</td>\n      <td>3.84</td>\n      <td>04/14/19 15:09</td>\n      <td>835 Lake St, Portland, OR 97035</td>\n      <td>04</td>\n    </tr>\n    <tr>\n      <th>186849</th>\n      <td>194094</td>\n      <td>Lightning Charging Cable</td>\n      <td>1</td>\n      <td>14.95</td>\n      <td>04/18/19 11:08</td>\n      <td>354 North St, Boston, MA 02215</td>\n      <td>04</td>\n    </tr>\n  </tbody>\n</table>\n<p>186305 rows × 7 columns</p>\n</div>"
     },
     "metadata": {},
     "execution_count": 17
    }
   ],
   "source": [
    "# finding all the NaN values\n",
    "nan_df = all_data[all_data.isna().any(axis=1)]\n",
    "nan_df\n",
    "all_data = all_data.dropna(how='all')\n",
    "all_data"
   ]
  },
  {
   "cell_type": "code",
   "execution_count": 18,
   "metadata": {},
   "outputs": [
    {
     "output_type": "execute_result",
     "data": {
      "text/plain": [
       "       Order ID Product Quantity Ordered Price Each Order Date  \\\n",
       "58          NaN     NaN              NaN        NaN        NaN   \n",
       "111         NaN     NaN              NaN        NaN        NaN   \n",
       "522         NaN     NaN              NaN        NaN        NaN   \n",
       "839         NaN     NaN              NaN        NaN        NaN   \n",
       "1590        NaN     NaN              NaN        NaN        NaN   \n",
       "...         ...     ...              ...        ...        ...   \n",
       "185230      NaN     NaN              NaN        NaN        NaN   \n",
       "185379      NaN     NaN              NaN        NaN        NaN   \n",
       "185527      NaN     NaN              NaN        NaN        NaN   \n",
       "185913      NaN     NaN              NaN        NaN        NaN   \n",
       "186185      NaN     NaN              NaN        NaN        NaN   \n",
       "\n",
       "       Purchase Address Month  \n",
       "58                  NaN   NaN  \n",
       "111                 NaN   NaN  \n",
       "522                 NaN   NaN  \n",
       "839                 NaN   NaN  \n",
       "1590                NaN   NaN  \n",
       "...                 ...   ...  \n",
       "185230              NaN   NaN  \n",
       "185379              NaN   NaN  \n",
       "185527              NaN   NaN  \n",
       "185913              NaN   NaN  \n",
       "186185              NaN   NaN  \n",
       "\n",
       "[545 rows x 7 columns]"
      ],
      "text/html": "<div>\n<style scoped>\n    .dataframe tbody tr th:only-of-type {\n        vertical-align: middle;\n    }\n\n    .dataframe tbody tr th {\n        vertical-align: top;\n    }\n\n    .dataframe thead th {\n        text-align: right;\n    }\n</style>\n<table border=\"1\" class=\"dataframe\">\n  <thead>\n    <tr style=\"text-align: right;\">\n      <th></th>\n      <th>Order ID</th>\n      <th>Product</th>\n      <th>Quantity Ordered</th>\n      <th>Price Each</th>\n      <th>Order Date</th>\n      <th>Purchase Address</th>\n      <th>Month</th>\n    </tr>\n  </thead>\n  <tbody>\n    <tr>\n      <th>58</th>\n      <td>NaN</td>\n      <td>NaN</td>\n      <td>NaN</td>\n      <td>NaN</td>\n      <td>NaN</td>\n      <td>NaN</td>\n      <td>NaN</td>\n    </tr>\n    <tr>\n      <th>111</th>\n      <td>NaN</td>\n      <td>NaN</td>\n      <td>NaN</td>\n      <td>NaN</td>\n      <td>NaN</td>\n      <td>NaN</td>\n      <td>NaN</td>\n    </tr>\n    <tr>\n      <th>522</th>\n      <td>NaN</td>\n      <td>NaN</td>\n      <td>NaN</td>\n      <td>NaN</td>\n      <td>NaN</td>\n      <td>NaN</td>\n      <td>NaN</td>\n    </tr>\n    <tr>\n      <th>839</th>\n      <td>NaN</td>\n      <td>NaN</td>\n      <td>NaN</td>\n      <td>NaN</td>\n      <td>NaN</td>\n      <td>NaN</td>\n      <td>NaN</td>\n    </tr>\n    <tr>\n      <th>1590</th>\n      <td>NaN</td>\n      <td>NaN</td>\n      <td>NaN</td>\n      <td>NaN</td>\n      <td>NaN</td>\n      <td>NaN</td>\n      <td>NaN</td>\n    </tr>\n    <tr>\n      <th>...</th>\n      <td>...</td>\n      <td>...</td>\n      <td>...</td>\n      <td>...</td>\n      <td>...</td>\n      <td>...</td>\n      <td>...</td>\n    </tr>\n    <tr>\n      <th>185230</th>\n      <td>NaN</td>\n      <td>NaN</td>\n      <td>NaN</td>\n      <td>NaN</td>\n      <td>NaN</td>\n      <td>NaN</td>\n      <td>NaN</td>\n    </tr>\n    <tr>\n      <th>185379</th>\n      <td>NaN</td>\n      <td>NaN</td>\n      <td>NaN</td>\n      <td>NaN</td>\n      <td>NaN</td>\n      <td>NaN</td>\n      <td>NaN</td>\n    </tr>\n    <tr>\n      <th>185527</th>\n      <td>NaN</td>\n      <td>NaN</td>\n      <td>NaN</td>\n      <td>NaN</td>\n      <td>NaN</td>\n      <td>NaN</td>\n      <td>NaN</td>\n    </tr>\n    <tr>\n      <th>185913</th>\n      <td>NaN</td>\n      <td>NaN</td>\n      <td>NaN</td>\n      <td>NaN</td>\n      <td>NaN</td>\n      <td>NaN</td>\n      <td>NaN</td>\n    </tr>\n    <tr>\n      <th>186185</th>\n      <td>NaN</td>\n      <td>NaN</td>\n      <td>NaN</td>\n      <td>NaN</td>\n      <td>NaN</td>\n      <td>NaN</td>\n      <td>NaN</td>\n    </tr>\n  </tbody>\n</table>\n<p>545 rows × 7 columns</p>\n</div>"
     },
     "metadata": {},
     "execution_count": 18
    }
   ],
   "source": [
    "# removed all NaN values in the dataset\n",
    "nan_df"
   ]
  },
  {
   "cell_type": "code",
   "execution_count": 19,
   "metadata": {},
   "outputs": [
    {
     "output_type": "stream",
     "name": "stdout",
     "text": [
      "<class 'pandas.core.frame.DataFrame'>\nInt64Index: 186305 entries, 0 to 186849\nData columns (total 7 columns):\n #   Column            Non-Null Count   Dtype \n---  ------            --------------   ----- \n 0   Order ID          186305 non-null  object\n 1   Product           186305 non-null  object\n 2   Quantity Ordered  186305 non-null  object\n 3   Price Each        186305 non-null  object\n 4   Order Date        186305 non-null  object\n 5   Purchase Address  186305 non-null  object\n 6   Month             186305 non-null  object\ndtypes: object(7)\nmemory usage: 11.4+ MB\n"
     ]
    }
   ],
   "source": [
    "all_data.info()"
   ]
  },
  {
   "cell_type": "code",
   "execution_count": 20,
   "metadata": {},
   "outputs": [
    {
     "output_type": "execute_result",
     "data": {
      "text/plain": [
       "        Order ID  Product  Quantity Ordered  Price Each  Order Date  \\\n",
       "964     Order ID  Product  Quantity Ordered  Price Each  Order Date   \n",
       "973     Order ID  Product  Quantity Ordered  Price Each  Order Date   \n",
       "975     Order ID  Product  Quantity Ordered  Price Each  Order Date   \n",
       "1318    Order ID  Product  Quantity Ordered  Price Each  Order Date   \n",
       "1355    Order ID  Product  Quantity Ordered  Price Each  Order Date   \n",
       "...          ...      ...               ...         ...         ...   \n",
       "183747  Order ID  Product  Quantity Ordered  Price Each  Order Date   \n",
       "185675  Order ID  Product  Quantity Ordered  Price Each  Order Date   \n",
       "185791  Order ID  Product  Quantity Ordered  Price Each  Order Date   \n",
       "185806  Order ID  Product  Quantity Ordered  Price Each  Order Date   \n",
       "186211  Order ID  Product  Quantity Ordered  Price Each  Order Date   \n",
       "\n",
       "        Purchase Address Month  \n",
       "964     Purchase Address    Or  \n",
       "973     Purchase Address    Or  \n",
       "975     Purchase Address    Or  \n",
       "1318    Purchase Address    Or  \n",
       "1355    Purchase Address    Or  \n",
       "...                  ...   ...  \n",
       "183747  Purchase Address    Or  \n",
       "185675  Purchase Address    Or  \n",
       "185791  Purchase Address    Or  \n",
       "185806  Purchase Address    Or  \n",
       "186211  Purchase Address    Or  \n",
       "\n",
       "[355 rows x 7 columns]"
      ],
      "text/html": "<div>\n<style scoped>\n    .dataframe tbody tr th:only-of-type {\n        vertical-align: middle;\n    }\n\n    .dataframe tbody tr th {\n        vertical-align: top;\n    }\n\n    .dataframe thead th {\n        text-align: right;\n    }\n</style>\n<table border=\"1\" class=\"dataframe\">\n  <thead>\n    <tr style=\"text-align: right;\">\n      <th></th>\n      <th>Order ID</th>\n      <th>Product</th>\n      <th>Quantity Ordered</th>\n      <th>Price Each</th>\n      <th>Order Date</th>\n      <th>Purchase Address</th>\n      <th>Month</th>\n    </tr>\n  </thead>\n  <tbody>\n    <tr>\n      <th>964</th>\n      <td>Order ID</td>\n      <td>Product</td>\n      <td>Quantity Ordered</td>\n      <td>Price Each</td>\n      <td>Order Date</td>\n      <td>Purchase Address</td>\n      <td>Or</td>\n    </tr>\n    <tr>\n      <th>973</th>\n      <td>Order ID</td>\n      <td>Product</td>\n      <td>Quantity Ordered</td>\n      <td>Price Each</td>\n      <td>Order Date</td>\n      <td>Purchase Address</td>\n      <td>Or</td>\n    </tr>\n    <tr>\n      <th>975</th>\n      <td>Order ID</td>\n      <td>Product</td>\n      <td>Quantity Ordered</td>\n      <td>Price Each</td>\n      <td>Order Date</td>\n      <td>Purchase Address</td>\n      <td>Or</td>\n    </tr>\n    <tr>\n      <th>1318</th>\n      <td>Order ID</td>\n      <td>Product</td>\n      <td>Quantity Ordered</td>\n      <td>Price Each</td>\n      <td>Order Date</td>\n      <td>Purchase Address</td>\n      <td>Or</td>\n    </tr>\n    <tr>\n      <th>1355</th>\n      <td>Order ID</td>\n      <td>Product</td>\n      <td>Quantity Ordered</td>\n      <td>Price Each</td>\n      <td>Order Date</td>\n      <td>Purchase Address</td>\n      <td>Or</td>\n    </tr>\n    <tr>\n      <th>...</th>\n      <td>...</td>\n      <td>...</td>\n      <td>...</td>\n      <td>...</td>\n      <td>...</td>\n      <td>...</td>\n      <td>...</td>\n    </tr>\n    <tr>\n      <th>183747</th>\n      <td>Order ID</td>\n      <td>Product</td>\n      <td>Quantity Ordered</td>\n      <td>Price Each</td>\n      <td>Order Date</td>\n      <td>Purchase Address</td>\n      <td>Or</td>\n    </tr>\n    <tr>\n      <th>185675</th>\n      <td>Order ID</td>\n      <td>Product</td>\n      <td>Quantity Ordered</td>\n      <td>Price Each</td>\n      <td>Order Date</td>\n      <td>Purchase Address</td>\n      <td>Or</td>\n    </tr>\n    <tr>\n      <th>185791</th>\n      <td>Order ID</td>\n      <td>Product</td>\n      <td>Quantity Ordered</td>\n      <td>Price Each</td>\n      <td>Order Date</td>\n      <td>Purchase Address</td>\n      <td>Or</td>\n    </tr>\n    <tr>\n      <th>185806</th>\n      <td>Order ID</td>\n      <td>Product</td>\n      <td>Quantity Ordered</td>\n      <td>Price Each</td>\n      <td>Order Date</td>\n      <td>Purchase Address</td>\n      <td>Or</td>\n    </tr>\n    <tr>\n      <th>186211</th>\n      <td>Order ID</td>\n      <td>Product</td>\n      <td>Quantity Ordered</td>\n      <td>Price Each</td>\n      <td>Order Date</td>\n      <td>Purchase Address</td>\n      <td>Or</td>\n    </tr>\n  </tbody>\n</table>\n<p>355 rows × 7 columns</p>\n</div>"
     },
     "metadata": {},
     "execution_count": 20
    }
   ],
   "source": [
    "# it seems there are some 'Or' kind of data available in the month data so need to remove the rows\n",
    "temp_df = all_data[all_data['Order Date'].str[0:2] == 'Or']\n",
    "temp_df"
   ]
  },
  {
   "cell_type": "code",
   "execution_count": 21,
   "metadata": {},
   "outputs": [
    {
     "output_type": "execute_result",
     "data": {
      "text/plain": [
       "       Order ID                   Product Quantity Ordered Price Each  \\\n",
       "0        194095          Wired Headphones                1      11.99   \n",
       "1        194096     AA Batteries (4-pack)                1       3.84   \n",
       "2        194097          27in FHD Monitor                1     149.99   \n",
       "3        194098          Wired Headphones                1      11.99   \n",
       "4        194099    AAA Batteries (4-pack)                2       2.99   \n",
       "...         ...                       ...              ...        ...   \n",
       "186845   194090              Google Phone                1        600   \n",
       "186846   194091     AA Batteries (4-pack)                1       3.84   \n",
       "186847   194092    AAA Batteries (4-pack)                2       2.99   \n",
       "186848   194093     AA Batteries (4-pack)                1       3.84   \n",
       "186849   194094  Lightning Charging Cable                1      14.95   \n",
       "\n",
       "            Order Date                         Purchase Address Month  \n",
       "0       05/16/19 17:14      669 2nd St, New York City, NY 10001    05  \n",
       "1       05/19/19 14:43          844 Walnut St, Dallas, TX 75001    05  \n",
       "2       05/24/19 11:36  164 Madison St, New York City, NY 10001    05  \n",
       "3       05/02/19 20:40          622 Meadow St, Dallas, TX 75001    05  \n",
       "4       05/11/19 22:55          17 Church St, Seattle, WA 98101    05  \n",
       "...                ...                                      ...   ...  \n",
       "186845  04/08/19 17:11    177 Jackson St, Los Angeles, CA 90001    04  \n",
       "186846  04/15/19 16:02          311 Forest St, Austin, TX 73301    04  \n",
       "186847  04/28/19 14:36   347 Sunset St, San Francisco, CA 94016    04  \n",
       "186848  04/14/19 15:09          835 Lake St, Portland, OR 97035    04  \n",
       "186849  04/18/19 11:08           354 North St, Boston, MA 02215    04  \n",
       "\n",
       "[185950 rows x 7 columns]"
      ],
      "text/html": "<div>\n<style scoped>\n    .dataframe tbody tr th:only-of-type {\n        vertical-align: middle;\n    }\n\n    .dataframe tbody tr th {\n        vertical-align: top;\n    }\n\n    .dataframe thead th {\n        text-align: right;\n    }\n</style>\n<table border=\"1\" class=\"dataframe\">\n  <thead>\n    <tr style=\"text-align: right;\">\n      <th></th>\n      <th>Order ID</th>\n      <th>Product</th>\n      <th>Quantity Ordered</th>\n      <th>Price Each</th>\n      <th>Order Date</th>\n      <th>Purchase Address</th>\n      <th>Month</th>\n    </tr>\n  </thead>\n  <tbody>\n    <tr>\n      <th>0</th>\n      <td>194095</td>\n      <td>Wired Headphones</td>\n      <td>1</td>\n      <td>11.99</td>\n      <td>05/16/19 17:14</td>\n      <td>669 2nd St, New York City, NY 10001</td>\n      <td>05</td>\n    </tr>\n    <tr>\n      <th>1</th>\n      <td>194096</td>\n      <td>AA Batteries (4-pack)</td>\n      <td>1</td>\n      <td>3.84</td>\n      <td>05/19/19 14:43</td>\n      <td>844 Walnut St, Dallas, TX 75001</td>\n      <td>05</td>\n    </tr>\n    <tr>\n      <th>2</th>\n      <td>194097</td>\n      <td>27in FHD Monitor</td>\n      <td>1</td>\n      <td>149.99</td>\n      <td>05/24/19 11:36</td>\n      <td>164 Madison St, New York City, NY 10001</td>\n      <td>05</td>\n    </tr>\n    <tr>\n      <th>3</th>\n      <td>194098</td>\n      <td>Wired Headphones</td>\n      <td>1</td>\n      <td>11.99</td>\n      <td>05/02/19 20:40</td>\n      <td>622 Meadow St, Dallas, TX 75001</td>\n      <td>05</td>\n    </tr>\n    <tr>\n      <th>4</th>\n      <td>194099</td>\n      <td>AAA Batteries (4-pack)</td>\n      <td>2</td>\n      <td>2.99</td>\n      <td>05/11/19 22:55</td>\n      <td>17 Church St, Seattle, WA 98101</td>\n      <td>05</td>\n    </tr>\n    <tr>\n      <th>...</th>\n      <td>...</td>\n      <td>...</td>\n      <td>...</td>\n      <td>...</td>\n      <td>...</td>\n      <td>...</td>\n      <td>...</td>\n    </tr>\n    <tr>\n      <th>186845</th>\n      <td>194090</td>\n      <td>Google Phone</td>\n      <td>1</td>\n      <td>600</td>\n      <td>04/08/19 17:11</td>\n      <td>177 Jackson St, Los Angeles, CA 90001</td>\n      <td>04</td>\n    </tr>\n    <tr>\n      <th>186846</th>\n      <td>194091</td>\n      <td>AA Batteries (4-pack)</td>\n      <td>1</td>\n      <td>3.84</td>\n      <td>04/15/19 16:02</td>\n      <td>311 Forest St, Austin, TX 73301</td>\n      <td>04</td>\n    </tr>\n    <tr>\n      <th>186847</th>\n      <td>194092</td>\n      <td>AAA Batteries (4-pack)</td>\n      <td>2</td>\n      <td>2.99</td>\n      <td>04/28/19 14:36</td>\n      <td>347 Sunset St, San Francisco, CA 94016</td>\n      <td>04</td>\n    </tr>\n    <tr>\n      <th>186848</th>\n      <td>194093</td>\n      <td>AA Batteries (4-pack)</td>\n      <td>1</td>\n      <td>3.84</td>\n      <td>04/14/19 15:09</td>\n      <td>835 Lake St, Portland, OR 97035</td>\n      <td>04</td>\n    </tr>\n    <tr>\n      <th>186849</th>\n      <td>194094</td>\n      <td>Lightning Charging Cable</td>\n      <td>1</td>\n      <td>14.95</td>\n      <td>04/18/19 11:08</td>\n      <td>354 North St, Boston, MA 02215</td>\n      <td>04</td>\n    </tr>\n  </tbody>\n</table>\n<p>185950 rows × 7 columns</p>\n</div>"
     },
     "metadata": {},
     "execution_count": 21
    }
   ],
   "source": [
    "# while concatinating the dataframe all the headers were repeated so need to remove those duplicated rows\n",
    "all_data = all_data[all_data['Order Date'].str[0:2] != 'Or']\n",
    "all_data"
   ]
  },
  {
   "cell_type": "code",
   "execution_count": 24,
   "metadata": {},
   "outputs": [
    {
     "output_type": "stream",
     "name": "stderr",
     "text": [
      "<ipython-input-24-81603091079b>:1: SettingWithCopyWarning: \nA value is trying to be set on a copy of a slice from a DataFrame.\nTry using .loc[row_indexer,col_indexer] = value instead\n\nSee the caveats in the documentation: https://pandas.pydata.org/pandas-docs/stable/user_guide/indexing.html#returning-a-view-versus-a-copy\n  all_data['Quantity Ordered'] = pd.to_numeric(all_data['Quantity Ordered'])\n<ipython-input-24-81603091079b>:2: SettingWithCopyWarning: \nA value is trying to be set on a copy of a slice from a DataFrame.\nTry using .loc[row_indexer,col_indexer] = value instead\n\nSee the caveats in the documentation: https://pandas.pydata.org/pandas-docs/stable/user_guide/indexing.html#returning-a-view-versus-a-copy\n  all_data['Price Each'] = pd.to_numeric(all_data['Price Each'])\n"
     ]
    }
   ],
   "source": [
    "all_data['Quantity Ordered'] = pd.to_numeric(all_data['Quantity Ordered'])\n",
    "all_data['Price Each'] = pd.to_numeric(all_data['Price Each'])"
   ]
  },
  {
   "cell_type": "code",
   "execution_count": null,
   "metadata": {},
   "outputs": [],
   "source": [
    "# Adding a Month Column\n",
    "all_data['Month'] = all_data['Order Date'].str[0:2]\n",
    "all_data['Month'] = all_data['Month'].astype('int32')\n",
    "all_data.head()"
   ]
  },
  {
   "cell_type": "code",
   "execution_count": null,
   "metadata": {},
   "outputs": [],
   "source": [
    "# Adding Month Column Alternative Method\n",
    "all_data['Month 2'] = pd.to_datetime(all_data['Order Date']).dt.month\n",
    "all_data.head()"
   ]
  },
  {
   "cell_type": "code",
   "execution_count": null,
   "metadata": {},
   "outputs": [],
   "source": [
    "# Add City Column\n",
    "def get_city(address):\n",
    "    return address.split(\",\")[1].strip(\" \")\n",
    "\n",
    "def get_state(address):\n",
    "    return address.split(\",\")[2].split(\" \")[1]\n",
    "\n",
    "all_data['City'] = all_data['Purchase Address'].apply(lambda x: f\"{get_city(x)}  ({get_state(x)})\")\n",
    "all_data.head()"
   ]
  },
  {
   "cell_type": "code",
   "execution_count": null,
   "metadata": {},
   "outputs": [],
   "source": []
  },
  {
   "cell_type": "code",
   "execution_count": 22,
   "metadata": {},
   "outputs": [],
   "source": [
    "### Data Exploration###\n",
    "#Question 1: What was the best month for sales? How much was earned that month?\n",
    "all_data['Sales'] = all_data['Quantity Ordered'].astype('int') * all_data['Price Each'].astype('float')"
   ]
  },
  {
   "cell_type": "code",
   "execution_count": null,
   "metadata": {},
   "outputs": [],
   "source": [
    "all_data.groupby(['Month']).sum()"
   ]
  },
  {
   "cell_type": "code",
   "execution_count": null,
   "metadata": {},
   "outputs": [],
   "source": [
    "import matplotlib.pyplot as plt\n",
    "\n",
    "months = range(1,13)\n",
    "print(months)\n",
    "\n",
    "plt.bar(months,all_data.groupby(['Month']).sum()['Sales'])\n",
    "plt.xticks(months)\n",
    "plt.ylabel('Sales in USD ($)')\n",
    "plt.xlabel('Month number')\n",
    "plt.show()"
   ]
  },
  {
   "cell_type": "code",
   "execution_count": 23,
   "metadata": {},
   "outputs": [],
   "source": [
    "\n",
    "\n",
    "\n",
    "\n",
    "# explore more data with data visualisations in order to get more insights\n"
   ]
  },
  {
   "cell_type": "code",
   "execution_count": null,
   "metadata": {},
   "outputs": [],
   "source": [
    "#Question 2: What city sold the most product?\n",
    "all_data.groupby(['City']).sum()"
   ]
  },
  {
   "cell_type": "code",
   "execution_count": null,
   "metadata": {},
   "outputs": [],
   "source": [
    "import matplotlib.pyplot as plt\n",
    "\n",
    "keys = [city for city, df in all_data.groupby(['City'])]\n",
    "\n",
    "plt.bar(keys,all_data.groupby(['City']).sum()['Sales'])\n",
    "plt.ylabel('Sales in USD ($)')\n",
    "plt.xlabel('Month number')\n",
    "plt.xticks(keys, rotation='vertical', size=8)\n",
    "plt.show()"
   ]
  },
  {
   "cell_type": "code",
   "execution_count": null,
   "metadata": {},
   "outputs": [],
   "source": [
    "#Question 3: What time should we display advertisements to maximize likelihood of customer's buying product?\n",
    "\n",
    "# Add hour column\n",
    "all_data['Hour'] = pd.to_datetime(all_data['Order Date']).dt.hour\n",
    "all_data['Minute'] = pd.to_datetime(all_data['Order Date']).dt.minute\n",
    "all_data['Count'] = 1\n",
    "all_data.head()"
   ]
  },
  {
   "cell_type": "code",
   "execution_count": null,
   "metadata": {},
   "outputs": [],
   "source": [
    "\n",
    "keys = [pair for pair, df in all_data.groupby(['Hour'])]\n",
    "\n",
    "plt.plot(keys, all_data.groupby(['Hour']).count()['Count'])\n",
    "plt.xticks(keys)\n",
    "plt.grid()\n",
    "plt.show()"
   ]
  },
  {
   "cell_type": "code",
   "execution_count": null,
   "metadata": {},
   "outputs": [],
   "source": [
    "#Question 4: What products are most often sold together?\n",
    "\n",
    "# https://stackoverflow.com/questions/43348194/pandas-select-rows-if-id-appear-several-time\n",
    "df = all_data[all_data['Order ID'].duplicated(keep=False)]\n",
    "\n",
    "# Referenced: https://stackoverflow.com/questions/27298178/concatenate-strings-from-several-rows-using-pandas-groupby\n",
    "df['Grouped'] = df.groupby('Order ID')['Product'].transform(lambda x: ','.join(x))\n",
    "df2 = df[['Order ID', 'Grouped']].drop_duplicates()"
   ]
  },
  {
   "cell_type": "code",
   "execution_count": null,
   "metadata": {},
   "outputs": [],
   "source": [
    "# Referenced: https://stackoverflow.com/questions/52195887/counting-unique-pairs-of-numbers-into-a-python-dictionary\n",
    "from itertools import combinations\n",
    "from collections import Counter\n",
    "\n",
    "count = Counter()\n",
    "\n",
    "for row in df2['Grouped']:\n",
    "    row_list = row.split(',')\n",
    "    count.update(Counter(combinations(row_list, 2)))\n",
    "\n",
    "for key,value in count.most_common(10):\n",
    "    print(key, value)"
   ]
  },
  {
   "cell_type": "code",
   "execution_count": null,
   "metadata": {},
   "outputs": [],
   "source": [
    "#Question 5: What product sold the most? Why do you think it sold the most?\n",
    "product_group = all_data.groupby('Product')\n",
    "quantity_ordered = product_group.sum()['Quantity Ordered']\n",
    "\n",
    "keys = [pair for pair, df in product_group]\n",
    "plt.bar(keys, quantity_ordered)\n",
    "plt.xticks(keys, rotation='vertical', size=8)\n",
    "plt.show()"
   ]
  },
  {
   "cell_type": "code",
   "execution_count": null,
   "metadata": {},
   "outputs": [],
   "source": [
    "# Referenced: https://stackoverflow.com/questions/14762181/adding-a-y-axis-label-to-secondary-y-axis-in-matplotlib\n",
    "\n",
    "prices = all_data.groupby('Product').mean()['Price Each']\n",
    "\n",
    "fig, ax1 = plt.subplots()\n",
    "\n",
    "ax2 = ax1.twinx()\n",
    "ax1.bar(keys, quantity_ordered, color='g')\n",
    "ax2.plot(keys, prices, color='b')\n",
    "\n",
    "ax1.set_xlabel('Product Name')\n",
    "ax1.set_ylabel('Quantity Ordered', color='g')\n",
    "ax2.set_ylabel('Price ($)', color='b')\n",
    "ax1.set_xticklabels(keys, rotation='vertical', size=8)\n",
    "\n",
    "fig.show()"
   ]
  },
  {
   "cell_type": "code",
   "execution_count": null,
   "metadata": {},
   "outputs": [],
   "source": []
  }
 ]
}